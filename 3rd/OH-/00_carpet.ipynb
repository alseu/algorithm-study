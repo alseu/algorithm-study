{
 "cells": [
  {
   "cell_type": "markdown",
   "source": [
    "# 조건\n",
    "# row >= col\n",
    "# (brown/2)+2 == row + col\n",
    "# => (brown/2)+2-col == row\n",
    "# (brown+yellow) == row * col\n",
    "# => (brown+yellow)/col == row"
   ],
   "metadata": {}
  },
  {
   "cell_type": "code",
   "execution_count": 20,
   "source": [
    "import math\n",
    "\n",
    "def solution(brown, yellow):\n",
    "    row = 0\n",
    "    col = 0\n",
    "    num = int(math.sqrt(brown+yellow))+1\n",
    "    for col in range(1,num):\n",
    "        if ( ((brown/2)+2-col) == ((brown+yellow)/col) ):\n",
    "            row = ((brown+yellow)//col)\n",
    "            break\n",
    "\n",
    "    answer = []\n",
    "    answer.append(row)\n",
    "    answer.append(col)\n",
    "    return answer"
   ],
   "outputs": [],
   "metadata": {}
  },
  {
   "cell_type": "code",
   "execution_count": 21,
   "source": [
    "print(solution(10, 2))  # [4, 3]\n",
    "print(solution(8, 1))   # [3, 3]\n",
    "print(solution(24, 24))\t# [8, 6]"
   ],
   "outputs": [
    {
     "output_type": "stream",
     "name": "stdout",
     "text": [
      "[4, 3]\n",
      "[3, 3]\n",
      "[8, 6]\n"
     ]
    }
   ],
   "metadata": {}
  },
  {
   "cell_type": "code",
   "execution_count": null,
   "source": [],
   "outputs": [],
   "metadata": {}
  }
 ],
 "metadata": {
  "orig_nbformat": 4,
  "language_info": {
   "name": "python",
   "version": "3.8.8",
   "mimetype": "text/x-python",
   "codemirror_mode": {
    "name": "ipython",
    "version": 3
   },
   "pygments_lexer": "ipython3",
   "nbconvert_exporter": "python",
   "file_extension": ".py"
  },
  "kernelspec": {
   "name": "python3",
   "display_name": "Python 3.8.8 64-bit ('base': conda)"
  },
  "interpreter": {
   "hash": "0277d8f5ae755f95493c4ec1db40f579fbaa07034d78b07d24fe2b877c522e49"
  }
 },
 "nbformat": 4,
 "nbformat_minor": 2
}