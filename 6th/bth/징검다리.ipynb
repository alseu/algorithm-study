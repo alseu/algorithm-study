{
 "cells": [
  {
   "cell_type": "markdown",
   "metadata": {},
   "source": [
    "# 징검다리"
   ]
  },
  {
   "cell_type": "code",
   "execution_count": 1,
   "metadata": {},
   "outputs": [],
   "source": [
    "def solution(distance, rocks, n):\n",
    "    answer = 0\n",
    "    rocks.sort()\n",
    "    rocks.append(distance)\n",
    "\n",
    "    length = len(rocks)\n",
    "    start = 1\n",
    "    end = distance\n",
    "    while start <= end:\n",
    "        mid = (start + end) // 2\n",
    "        cur_pos = 0\n",
    "        rock_cnt = 0\n",
    "\n",
    "        for i in range(length):\n",
    "            max_dist = rocks[i] - cur_pos\n",
    "            if max_dist >= mid:\n",
    "                cur_pos = rocks[i]\n",
    "                rock_cnt += 1\n",
    "\n",
    "        if rock_cnt >= length - n:\n",
    "            start = mid + 1\n",
    "            answer = mid\n",
    "        elif rock_cnt < length - n:\n",
    "            end = mid - 1        \n",
    "\n",
    "    return answer"
   ]
  },
  {
   "cell_type": "markdown",
   "metadata": {},
   "source": [
    "- 각 다리의 간격을 세어주면서 진행 중간값을 넘는 다리의 갯수를 카운트\n",
    "- 중간값보다 간격이 넓은 경우 남는 다리\n",
    "- 최소값을 최대화 하려면 짧은 걸 날려야 하기 때문\n",
    "- 중간값을 넘었을 경우 갱신하여 현재 위치를 조정\n",
    "- 이를 반복하여 답을 찾는다"
   ]
  }
 ],
 "metadata": {
  "interpreter": {
   "hash": "e64d8dcf9c098651a20efd68037575e2ded99423c9980114527a11e03f988414"
  },
  "kernelspec": {
   "display_name": "Python 3.8.5 64-bit ('base': conda)",
   "language": "python",
   "name": "python3"
  },
  "language_info": {
   "codemirror_mode": {
    "name": "ipython",
    "version": 3
   },
   "file_extension": ".py",
   "mimetype": "text/x-python",
   "name": "python",
   "nbconvert_exporter": "python",
   "pygments_lexer": "ipython3",
   "version": "3.8.5"
  },
  "orig_nbformat": 4
 },
 "nbformat": 4,
 "nbformat_minor": 2
}
