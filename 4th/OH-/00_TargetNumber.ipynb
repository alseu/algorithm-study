{
 "cells": [
  {
   "cell_type": "markdown",
   "source": [
    "#### 타겟 넘버\r\n",
    "#### 문제 설명\r\n",
    "#### n개의 음이 아닌 정수가 있습니다. 이 수를 적절히 더하거나 빼서 타겟 넘버를 만들려고 합니다. 예를 들어 [1, 1, 1, 1, 1]로 숫자 3을 만들려면 다음 다섯 방법을 쓸 수 있습니다.\r\n",
    "#### \r\n",
    "#### -1+1+1+1+1 = 3\r\n",
    "#### +1-1+1+1+1 = 3\r\n",
    "#### +1+1-1+1+1 = 3\r\n",
    "#### +1+1+1-1+1 = 3\r\n",
    "#### +1+1+1+1-1 = 3\r\n",
    "#### 사용할 수 있는 숫자가 담긴 배열 numbers, 타겟 넘버 target이 매개변수로 주어질 때 숫자를 적절히 더하고 빼서 타겟 넘버를 만드는 방법의 수를 return 하도록 solution 함수를 작성해주세요.\r\n",
    "#### \r\n",
    "#### 제한사항\r\n",
    "#### 주어지는 숫자의 개수는 2개 이상 20개 이하입니다.\r\n",
    "#### 각 숫자는 1 이상 50 이하인 자연수입니다.\r\n",
    "#### 타겟 넘버는 1 이상 1000 이하인 자연수입니다.\r\n",
    "#### 입출력 예\r\n",
    "#### numbers\ttarget\treturn\r\n",
    "#### [1, 1, 1, 1, 1]\t3\t5\r\n",
    "#### 입출력 예 설명\r\n",
    "#### 문제에 나온 예와 같습니다.\r\n",
    "#### \r\n",
    "#### https://programmers.co.kr/learn/courses/30/lessons/43165?language=python3\r\n",
    "#### 출처: 프로그래머스 코딩 테스트 연습, https://programmers.co.kr/learn/challenges"
   ],
   "metadata": {}
  },
  {
   "cell_type": "code",
   "execution_count": 1,
   "source": [
    "def solution(numbers, target):\r\n",
    "    if(len(numbers) == 1):\r\n",
    "        if( (numbers[0] == target)or(numbers[0] == -target)):\r\n",
    "            return 1\r\n",
    "        else:\r\n",
    "            return 0\r\n",
    "    else:\r\n",
    "        return solution(numbers[0:-1], target+numbers[-1]) + solution(numbers[0:-1], target-numbers[-1])\r\n"
   ],
   "outputs": [],
   "metadata": {}
  },
  {
   "cell_type": "code",
   "execution_count": null,
   "source": [
    "# 다른 풀이\r\n",
    "def solution(numbers, target):\r\n",
    "    if not numbers and target == 0 :\r\n",
    "        return 1\r\n",
    "    elif not numbers:\r\n",
    "        return 0\r\n",
    "    else:\r\n",
    "        return solution(numbers[1:], target-numbers[0]) + solution(numbers[1:], target+numbers[0])"
   ],
   "outputs": [],
   "metadata": {}
  },
  {
   "cell_type": "code",
   "execution_count": 2,
   "source": [
    "if __name__ == \"__main__\":\r\n",
    "    print(solution([1,1,1,1,1], 3))     #5"
   ],
   "outputs": [
    {
     "output_type": "stream",
     "name": "stdout",
     "text": [
      "5\n"
     ]
    }
   ],
   "metadata": {}
  },
  {
   "cell_type": "code",
   "execution_count": null,
   "source": [],
   "outputs": [],
   "metadata": {}
  }
 ],
 "metadata": {
  "orig_nbformat": 4,
  "language_info": {
   "name": "python",
   "version": "3.8.5",
   "mimetype": "text/x-python",
   "codemirror_mode": {
    "name": "ipython",
    "version": 3
   },
   "pygments_lexer": "ipython3",
   "nbconvert_exporter": "python",
   "file_extension": ".py"
  },
  "kernelspec": {
   "name": "python3",
   "display_name": "Python 3.8.5 64-bit ('base': conda)"
  },
  "interpreter": {
   "hash": "ce1dda2b853e17d6321d126fd571ddea4c93c51c6585c96b9094decb7517e76c"
  }
 },
 "nbformat": 4,
 "nbformat_minor": 2
}