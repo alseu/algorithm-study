{
 "cells": [
  {
   "cell_type": "markdown",
   "metadata": {},
   "source": [
    "## 네트워크\n",
    " - https://programmers.co.kr/learn/courses/30/lessons/43162"
   ]
  },
  {
   "cell_type": "code",
   "execution_count": 1,
   "metadata": {},
   "outputs": [],
   "source": [
    "def dfs(computers, v, visited):\n",
    "    if visited[v] == 1:\n",
    "        return False\n",
    "    else:\n",
    "        visited[v] = 1\n",
    "        for i, x in enumerate(computers[v]):\n",
    "            if i != v and x == 1:\n",
    "                dfs(computers, i, visited)\n",
    "        return True\n",
    "\n",
    "def solution(n, computers):\n",
    "    answer = 0\n",
    "    visited = [ 0 for _ in range(n) ]\n",
    "    for x in range(n):\n",
    "        if dfs(computers, x, visited) == True:\n",
    "            answer += 1\n",
    "    return answer"
   ]
  },
  {
   "cell_type": "code",
   "execution_count": null,
   "metadata": {},
   "outputs": [],
   "source": []
  }
 ],
 "metadata": {
  "interpreter": {
   "hash": "05da77d9963a027360ab68862938ac27b063a6c26dfa61894b9122f1c0994c87"
  },
  "kernelspec": {
   "display_name": "Python 3.7.10 64-bit ('tf2.0': conda)",
   "name": "python3"
  },
  "language_info": {
   "codemirror_mode": {
    "name": "ipython",
    "version": 3
   },
   "file_extension": ".py",
   "mimetype": "text/x-python",
   "name": "python",
   "nbconvert_exporter": "python",
   "pygments_lexer": "ipython3",
   "version": "3.7.10"
  },
  "orig_nbformat": 4
 },
 "nbformat": 4,
 "nbformat_minor": 2
}
