{
    "cells": [
        {
            "cell_type": "markdown",
            "source": [
                "### 생각의 흐름\r\n",
                "- 심사인원 누적 리스트 생성\r\n",
                "- n명을 순차적으로 배치"
            ],
            "metadata": {}
        },
        {
            "cell_type": "code",
            "execution_count": 1,
            "source": [
                "# test case\r\n",
                "test = [\r\n",
                "    {'n': 6, 'times': [7, 10]},\r\n",
                "    {'n': 10000, 'times': [1,3,5,2]},\r\n",
                "    {'n': 200, 'times': [1,3,5,2,234,1,324,63,54,67]},\r\n",
                "    {'n': 12356, 'times': [1,3]},\r\n",
                "    {'n': 654321, 'times': [234,1,324]},\r\n",
                "    {'n': 100000, 'times': [1,3,5,2,234,1,324,63,54,67]},\r\n",
                "    {'n': 1000, 'times': [7]},\r\n",
                "]"
            ],
            "outputs": [],
            "metadata": {}
        },
        {
            "cell_type": "code",
            "execution_count": 2,
            "source": [
                "def solution(n, times):\r\n",
                "    # 심사인원 누적 리스트 생성\r\n",
                "    answer_list = [ 0 for x in times ]\r\n",
                "    # n명을 순차적으로 배치\r\n",
                "    for x in range(n):\r\n",
                "        temp_list = [ x + y for x, y in zip(answer_list, times) ]\r\n",
                "        min_idx = temp_list.index(min(temp_list))\r\n",
                "        answer_list[min_idx] += times[min_idx]\r\n",
                "    answer = max(answer_list)\r\n",
                "    print(answer_list)\r\n",
                "    return answer"
            ],
            "outputs": [],
            "metadata": {}
        },
        {
            "cell_type": "markdown",
            "source": [
                "### test"
            ],
            "metadata": {}
        },
        {
            "cell_type": "code",
            "execution_count": 3,
            "source": [
                "import time"
            ],
            "outputs": [],
            "metadata": {}
        },
        {
            "cell_type": "code",
            "execution_count": 4,
            "source": [
                "for x in test:\r\n",
                "    start = time.time()\r\n",
                "    a = solution(x['n'], x['times'])\r\n",
                "    end = time.time()\r\n",
                "    print(\"정답: \", a)\r\n",
                "    print(f\"{end - start:.5f} sec\")"
            ],
            "outputs": [
                {
                    "output_type": "stream",
                    "name": "stdout",
                    "text": [
                        "[28, 20]\n",
                        "정답:  28\n",
                        "0.00000 sec\n",
                        "[4919, 4917, 4915, 4918]\n",
                        "정답:  4919\n",
                        "0.00601 sec\n",
                        "[66, 66, 65, 64, 0, 65, 0, 63, 54, 0]\n",
                        "정답:  66\n",
                        "0.00000 sec\n",
                        "[9267, 9267]\n",
                        "정답:  9267\n",
                        "0.00701 sec\n",
                        "[649350, 649542, 649296]\n",
                        "정답:  649542\n",
                        "0.37662 sec\n",
                        "[32364, 32364, 32360, 32362, 32292, 32363, 32076, 32319, 32346, 32361]\n",
                        "정답:  32364\n",
                        "0.09509 sec\n",
                        "[7000]\n",
                        "정답:  7000\n",
                        "0.00000 sec\n"
                    ]
                }
            ],
            "metadata": {}
        },
        {
            "cell_type": "markdown",
            "source": [
                "### 시간이 너무 오래 걸려서 실패\r\n",
                "### 개선사항\r\n",
                "- 한 명씩 처리하는 것이 아닌 총 걸리는 시간이 가능한지 검토\r\n",
                "- 정답 시간을 각 심사시간을 쪼갠 총합이 주어진 인원수를 넘어서거나 같아지면 최소로 생각해서 뭉텅이로 처리"
            ],
            "metadata": {}
        },
        {
            "cell_type": "code",
            "execution_count": 5,
            "source": [
                "def solution(n, times):\r\n",
                "    max_time = max(times) * n\r\n",
                "    answer = 0\r\n",
                "    while answer < max_time:\r\n",
                "        answer += 1\r\n",
                "        passed = 0\r\n",
                "        for time in times:\r\n",
                "            passed += answer // time\r\n",
                "        \r\n",
                "        if passed >= n:\r\n",
                "            break;\r\n",
                "\r\n",
                "    return answer"
            ],
            "outputs": [],
            "metadata": {}
        },
        {
            "cell_type": "markdown",
            "source": [
                "### test"
            ],
            "metadata": {}
        },
        {
            "cell_type": "code",
            "execution_count": 6,
            "source": [
                "for x in test:\r\n",
                "    start = time.time()\r\n",
                "    a = solution(x['n'], x['times'])\r\n",
                "    end = time.time()\r\n",
                "    print(\"정답: \", a)\r\n",
                "    print(f\"{end - start:.5f} sec\")"
            ],
            "outputs": [
                {
                    "output_type": "stream",
                    "name": "stdout",
                    "text": [
                        "정답:  28\n",
                        "0.00000 sec\n",
                        "정답:  4919\n",
                        "0.00100 sec\n",
                        "정답:  66\n",
                        "0.00000 sec\n",
                        "정답:  9267\n",
                        "0.00100 sec\n",
                        "정답:  649542\n",
                        "0.12511 sec\n",
                        "정답:  32364\n",
                        "0.01601 sec\n",
                        "정답:  7000\n",
                        "0.00100 sec\n"
                    ]
                }
            ],
            "metadata": {}
        },
        {
            "cell_type": "markdown",
            "source": [
                "### 마찬가지로 시간이 오래 걸려서 실패\r\n",
                "- 오히려 1명씩 처리하는 방법이 더 적게 걸리는 경우도 있음\r\n",
                "- 최대값은 정해져 있고 탐색횟수를 줄이기 위해서 이진탐색을 도입\r\n",
                "- 1시간씩 늘려 나갈때 통과 인원수를 기준으로 적으면 앞의 인덱스 많으면 뒤의 인덱스로\r\n",
                "- 적을경우 median을 대입하면 무한 루프가 발생할 수 있으니 +1씩 해주어 1차이일때 while 조건문으로 탈출"
            ],
            "metadata": {}
        },
        {
            "cell_type": "code",
            "execution_count": 7,
            "source": [
                "def solution(n, times):\r\n",
                "    max_time = max(times) * n\r\n",
                "    answer = 1\r\n",
                "    while answer < max_time :\r\n",
                "        median = (max_time + answer) // 2\r\n",
                "        passed = 0\r\n",
                "        for time in times:\r\n",
                "            passed += median // time\r\n",
                "\r\n",
                "        if passed >= n:\r\n",
                "            max_time = median\r\n",
                "        else:\r\n",
                "            answer = median + 1\r\n",
                "\r\n",
                "    return answer"
            ],
            "outputs": [],
            "metadata": {}
        },
        {
            "cell_type": "markdown",
            "source": [
                "### test"
            ],
            "metadata": {}
        },
        {
            "cell_type": "code",
            "execution_count": 8,
            "source": [
                "for x in test:\r\n",
                "    start = time.time()\r\n",
                "    a = solution(x['n'], x['times'])\r\n",
                "    end = time.time()\r\n",
                "    print(\"정답: \", a)\r\n",
                "    print(f\"{end - start:.5f} sec\")"
            ],
            "outputs": [
                {
                    "output_type": "stream",
                    "name": "stdout",
                    "text": [
                        "정답:  28\n",
                        "0.00000 sec\n",
                        "정답:  4919\n",
                        "0.00000 sec\n",
                        "정답:  66\n",
                        "0.00000 sec\n",
                        "정답:  9267\n",
                        "0.00000 sec\n",
                        "정답:  649542\n",
                        "0.00000 sec\n",
                        "정답:  32364\n",
                        "0.00000 sec\n",
                        "정답:  7000\n",
                        "0.00000 sec\n"
                    ]
                }
            ],
            "metadata": {}
        },
        {
            "cell_type": "markdown",
            "source": [
                "- 테스트 1 〉\t통과 (0.01ms, 10.2MB)\r\n",
                "- 테스트 2 〉\t통과 (0.08ms, 10.2MB)\r\n",
                "- 테스트 3 〉\t통과 (3.64ms, 10.2MB)\r\n",
                "- 테스트 4 〉\t통과 (160.37ms, 14.2MB)\r\n",
                "- 테스트 5 〉\t통과 (324.36ms, 14.1MB)\r\n",
                "- 테스트 6 〉\t통과 (194.88ms, 14MB)\r\n",
                "- 테스트 7 〉\t통과 (395.96ms, 14.3MB)\r\n",
                "- 테스트 8 〉\t통과 (467.72ms, 14.2MB)\r\n",
                "- 테스트 9 〉\t통과 (0.02ms, 10.1MB)"
            ],
            "metadata": {}
        },
        {
            "cell_type": "markdown",
            "source": [
                "### 성공하였으나 좀 더 줄여 볼 수 있을까 고민\r\n",
                "- 심사대가 많을 경우 통과자가 주어진 수보다 많을경우 탈출하여 이진 탐색"
            ],
            "metadata": {}
        },
        {
            "cell_type": "code",
            "execution_count": 9,
            "source": [
                "def solution(n, times):\r\n",
                "    max_time = max(times) * n\r\n",
                "    answer = 1\r\n",
                "    while answer < max_time :\r\n",
                "        median = (max_time + answer) // 2\r\n",
                "        passed = 0\r\n",
                "        for time in times:\r\n",
                "            passed += median // time\r\n",
                "            if passed >= n:\r\n",
                "                max_time = median\r\n",
                "                break;\r\n",
                "\r\n",
                "        if passed < n:\r\n",
                "            answer = median + 1\r\n",
                "\r\n",
                "    return answer"
            ],
            "outputs": [],
            "metadata": {}
        },
        {
            "cell_type": "markdown",
            "source": [
                "### test"
            ],
            "metadata": {}
        },
        {
            "cell_type": "code",
            "execution_count": 10,
            "source": [
                "for x in test:\r\n",
                "    start = time.time()\r\n",
                "    a = solution(x['n'], x['times'])\r\n",
                "    end = time.time()\r\n",
                "    print(\"정답: \", a)\r\n",
                "    print(f\"{end - start:.5f} sec\")"
            ],
            "outputs": [
                {
                    "output_type": "stream",
                    "name": "stdout",
                    "text": [
                        "정답:  28\n",
                        "0.00000 sec\n",
                        "정답:  4919\n",
                        "0.00000 sec\n",
                        "정답:  66\n",
                        "0.00000 sec\n",
                        "정답:  9267\n",
                        "0.00000 sec\n",
                        "정답:  649542\n",
                        "0.00000 sec\n",
                        "정답:  32364\n",
                        "0.00000 sec\n",
                        "정답:  7000\n",
                        "0.00000 sec\n"
                    ]
                }
            ],
            "metadata": {}
        },
        {
            "cell_type": "markdown",
            "source": [
                "- 테스트 1 〉\t통과 (0.01ms, 10.2MB)\r\n",
                "- 테스트 2 〉\t통과 (0.08ms, 10.2MB)\r\n",
                "- 테스트 3 〉\t통과 (3.64ms, 10.2MB)\r\n",
                "- 테스트 4 〉\t통과 (160.37ms, 14.2MB)\r\n",
                "- 테스트 5 〉\t통과 (324.36ms, 14.1MB)\r\n",
                "- 테스트 6 〉\t통과 (194.88ms, 14MB)\r\n",
                "- 테스트 7 〉\t통과 (395.96ms, 14.3MB)\r\n",
                "- 테스트 8 〉\t통과 (467.72ms, 14.2MB)\r\n",
                "- 테스트 9 〉\t통과 (0.02ms, 10.1MB)"
            ],
            "metadata": {}
        }
    ],
    "metadata": {
        "orig_nbformat": 4,
        "language_info": {
            "name": "python",
            "version": "3.7.10",
            "mimetype": "text/x-python",
            "codemirror_mode": {
                "name": "ipython",
                "version": 3
            },
            "pygments_lexer": "ipython3",
            "nbconvert_exporter": "python",
            "file_extension": ".py"
        },
        "kernelspec": {
            "name": "python3",
            "display_name": "Python 3.7.10 64-bit ('tf2.0': conda)"
        },
        "interpreter": {
            "hash": "05da77d9963a027360ab68862938ac27b063a6c26dfa61894b9122f1c0994c87"
        }
    },
    "nbformat": 4,
    "nbformat_minor": 2
}