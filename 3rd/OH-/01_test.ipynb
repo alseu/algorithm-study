{
 "cells": [
  {
   "cell_type": "markdown",
   "source": [
    "# 1번 수포자가 찍는 방식: 1, 2, 3, 4, 5\n",
    "# 2번 수포자가 찍는 방식: 2, 1, 2, 3, 2, 4, 2, 5\n",
    "# 3번 수포자가 찍는 방식: 3, 3, 1, 1, 2, 2, 4, 4, 5, 5\n"
   ],
   "metadata": {}
  },
  {
   "cell_type": "code",
   "execution_count": 5,
   "source": [
    "def solution(answers):\n",
    "    students = [\n",
    "        [1, 2, 3, 4, 5],\n",
    "        [2, 1, 2, 3, 2, 4, 2, 5],\n",
    "        [3, 3, 1, 1, 2, 2, 4, 4, 5, 5]\n",
    "    ]\n",
    "    ans_cnt = [0,0,0]\n",
    "    prob_cnt = 0\n",
    "    answer = []\n",
    "    for i in answers:\n",
    "        for j in range(3):\n",
    "            if(i==students[j][prob_cnt%len(students[j])]):\n",
    "                ans_cnt[j] += 1\n",
    "        prob_cnt += 1\n",
    "\n",
    "    nStudent = 1\n",
    "    for i in ans_cnt:\n",
    "        if(max(ans_cnt)==i):\n",
    "            answer.append(nStudent)\n",
    "        nStudent += 1\n",
    "        \n",
    "    return answer"
   ],
   "outputs": [],
   "metadata": {}
  },
  {
   "cell_type": "code",
   "execution_count": 6,
   "source": [
    "solution([1,2,3,4,5]) # [1]\n",
    "solution([1,3,2,4,2]) # [1,2,3]"
   ],
   "outputs": [
    {
     "output_type": "stream",
     "name": "stdout",
     "text": [
      "[5, 0, 0]\n",
      "[2, 2, 2]\n"
     ]
    },
    {
     "output_type": "execute_result",
     "data": {
      "text/plain": [
       "[1, 2, 3]"
      ]
     },
     "metadata": {},
     "execution_count": 6
    }
   ],
   "metadata": {}
  },
  {
   "cell_type": "code",
   "execution_count": null,
   "source": [],
   "outputs": [],
   "metadata": {}
  }
 ],
 "metadata": {
  "orig_nbformat": 4,
  "language_info": {
   "name": "python",
   "version": "3.8.8",
   "mimetype": "text/x-python",
   "codemirror_mode": {
    "name": "ipython",
    "version": 3
   },
   "pygments_lexer": "ipython3",
   "nbconvert_exporter": "python",
   "file_extension": ".py"
  },
  "kernelspec": {
   "name": "python3",
   "display_name": "Python 3.8.8 64-bit ('base': conda)"
  },
  "interpreter": {
   "hash": "0277d8f5ae755f95493c4ec1db40f579fbaa07034d78b07d24fe2b877c522e49"
  }
 },
 "nbformat": 4,
 "nbformat_minor": 2
}