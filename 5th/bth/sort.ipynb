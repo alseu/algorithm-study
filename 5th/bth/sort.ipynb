{
 "cells": [
  {
   "cell_type": "markdown",
   "metadata": {},
   "source": [
    "K 번째 수\n",
    "문제 설명\n",
    "배열 array의 i번째 숫자부터 j번째 숫자까지 자르고 정렬했을 때, k번째에 있는 수를 구하려 합니다.\n",
    "\n",
    "예를 들어 array가 [1, 5, 2, 6, 3, 7, 4], i = 2, j = 5, k = 3이라면\n",
    "\n",
    "array의 2번째부터 5번째까지 자르면 [5, 2, 6, 3]입니다.\n",
    "1에서 나온 배열을 정렬하면 [2, 3, 5, 6]입니다.\n",
    "2에서 나온 배열의 3번째 숫자는 5입니다.\n",
    "배열 array, [i, j, k]를 원소로 가진 2차원 배열 commands가 매개변수로 주어질 때, commands의 모든 원소에 대해 앞서 설명한 연산을 적용했을 때 나온 결과를 배열에 담아 return 하도록 solution 함수를 작성해주세요.\n",
    "\n",
    "제한사항\n",
    "array의 길이는 1 이상 100 이하입니다.\n",
    "array의 각 원소는 1 이상 100 이하입니다.\n",
    "commands의 길이는 1 이상 50 이하입니다.\n",
    "commands의 각 원소는 길이가 3입니다.\n",
    "입출력 예\n",
    "array\tcommands\treturn\n",
    "[1, 5, 2, 6, 3, 7, 4]\t[[2, 5, 3], [4, 4, 1], [1, 7, 3]]\t[5, 6, 3]\n",
    "입출력 예 설명\n",
    "[1, 5, 2, 6, 3, 7, 4]를 2번째부터 5번째까지 자른 후 정렬합니다. [2, 3, 5, 6]의 세 번째 숫자는 5입니다.\n",
    "[1, 5, 2, 6, 3, 7, 4]를 4번째부터 4번째까지 자른 후 정렬합니다. [6]의 첫 번째 숫자는 6입니다.\n",
    "[1, 5, 2, 6, 3, 7, 4]를 1번째부터 7번째까지 자릅니다. [1, 2, 3, 4, 5, 6, 7]의 세 번째 숫자는 3입니다."
   ]
  },
  {
   "cell_type": "code",
   "execution_count": 1,
   "metadata": {},
   "outputs": [],
   "source": [
    "def solution(array, commands):\n",
    "    answer = []\n",
    "    for cmd in commands:\n",
    "        answer.append(sorted(array[cmd[0]-1:cmd[1]])[cmd[2]-1])\n",
    "    return answer"
   ]
  },
  {
   "cell_type": "markdown",
   "metadata": {},
   "source": [
    "문제 설명\n",
    "0 또는 양의 정수가 주어졌을 때, 정수를 이어 붙여 만들 수 있는 가장 큰 수를 알아내 주세요.\n",
    "\n",
    "예를 들어, 주어진 정수가 [6, 10, 2]라면 [6102, 6210, 1062, 1026, 2610, 2106]를 만들 수 있고, 이중 가장 큰 수는 6210입니다.\n",
    "\n",
    "0 또는 양의 정수가 담긴 배열 numbers가 매개변수로 주어질 때, 순서를 재배치하여 만들 수 있는 가장 큰 수를 문자열로 바꾸어 return 하도록 solution 함수를 작성해주세요.\n",
    "\n",
    "제한 사항\n",
    "numbers의 길이는 1 이상 100,000 이하입니다.\n",
    "numbers의 원소는 0 이상 1,000 이하입니다.\n",
    "정답이 너무 클 수 있으니 문자열로 바꾸어 return 합니다."
   ]
  },
  {
   "cell_type": "code",
   "execution_count": 57,
   "metadata": {},
   "outputs": [],
   "source": [
    "from itertools import permutations as per\n",
    "\n",
    "def solution(numbers):\n",
    "    answer = \"\"\n",
    "    target = { x:[] for x in range(9, -1, -1) }\n",
    "    for x in numbers:\n",
    "        target[int(str(x)[0])].append(str(x))\n",
    "    for x in target:\n",
    "        if target[x] != []:\n",
    "            answer += sorted( [ \"\".join(list(map(str, x))) for x in per(target[x], len(target[x])) ] )[-1]\n",
    "    return answer"
   ]
  },
  {
   "cell_type": "markdown",
   "metadata": {},
   "source": [
    "- 테스트 1 〉\t실패 (시간 초과)\n",
    "- 테스트 2 〉\t실패 (시간 초과)\n",
    "- 테스트 3 〉\t실패 (시간 초과)\n",
    "- 테스트 4 〉\t실패 (시간 초과)\n",
    "- 테스트 5 〉\t실패 (시간 초과)\n",
    "- 테스트 6 〉\t실패 (시간 초과)\n",
    "- 테스트 7 〉\t통과 (0.08ms, 10.3MB)\n",
    "- 테스트 8 〉\t통과 (0.07ms, 10.4MB)\n",
    "- 테스트 9 〉\t통과 (0.08ms, 10.4MB)\n",
    "- 테스트 10 〉\t통과 (0.07ms, 10.4MB)\n",
    "- 테스트 11 〉\t실패 (시간 초과)\n",
    "- 테스트 12 〉\t통과 (0.03ms, 10.4MB)\n",
    "- 테스트 13 〉\t통과 (0.02ms, 10.4MB)\n",
    "- 테스트 14 〉\t통과 (0.03ms, 10.4MB)\n",
    "- 테스트 15 〉\t통과 (0.03ms, 10.4MB)"
   ]
  },
  {
   "cell_type": "code",
   "execution_count": 58,
   "metadata": {},
   "outputs": [
    {
     "data": {
      "text/plain": [
       "'1211111011001001000'"
      ]
     },
     "execution_count": 58,
     "metadata": {},
     "output_type": "execute_result"
    }
   ],
   "source": [
    "solution([1, 100, 110, 1100, 11, 1000, 12])"
   ]
  },
  {
   "cell_type": "code",
   "execution_count": 55,
   "metadata": {},
   "outputs": [],
   "source": [
    "def solution(numbers):\n",
    "    answer = \"\"\n",
    "    target = { x:[] for x in range(9, -1, -1) }\n",
    "    for x in numbers:\n",
    "        string = str(x)\n",
    "        target[int(string[0])].append( float( string[0]+'.'+string[1:] + str(int(string[0])-1) ) )\n",
    "    for x in target:\n",
    "        if target[x] != []:\n",
    "            answer += sorted( [ \"\".join(list(map(str, x))) for x in per(target[x], len(target[x])) ] )[-1]\n",
    "    return answer"
   ]
  },
  {
   "cell_type": "markdown",
   "metadata": {},
   "source": [
    "- 테스트 1 〉\t실패 (832.65ms, 16MB)\n",
    "- 테스트 2 〉\t실패 (284.75ms, 13.4MB)\n",
    "- 테스트 3 〉\t실패 (1439.83ms, 17.9MB)\n",
    "- 테스트 4 〉\t실패 (3.64ms, 10.5MB)\n",
    "- 테스트 5 〉\t실패 (679.43ms, 15.5MB)\n",
    "- 테스트 6 〉\t실패 (535.93ms, 14.8MB)\n",
    "- 테스트 7 〉\t통과 (0.05ms, 10.4MB)\n",
    "- 테스트 8 〉\t통과 (0.04ms, 10.3MB)\n",
    "- 테스트 9 〉\t통과 (0.06ms, 10.4MB)\n",
    "- 테스트 10 〉\t통과 (0.05ms, 10.3MB)\n",
    "- 테스트 11 〉\t통과 (0.07ms, 10.4MB)\n",
    "- 테스트 12 〉\t통과 (0.03ms, 10.4MB)\n",
    "- 테스트 13 〉\t실패 (0.03ms, 10.4MB)\n",
    "- 테스트 14 〉\t실패 (0.04ms, 10.3MB)\n",
    "- 테스트 15 〉\t통과 (0.03ms, 10.4MB)"
   ]
  },
  {
   "cell_type": "code",
   "execution_count": 100,
   "metadata": {},
   "outputs": [],
   "source": [
    "def solution(numbers):\n",
    "    answer = \"\"\n",
    "    target = sorted([ float( str(x)[0] +'.' + str(x)[1:] + ( str(x)[0] if x != 0 else '1') ) for x in numbers ] , reverse=True)\n",
    "    print(target)\n",
    "    for x in target:\n",
    "        string =  str(x)[:-1].replace('.', '')\n",
    "        answer += string\n",
    "    return str(int(answer))"
   ]
  },
  {
   "cell_type": "markdown",
   "metadata": {},
   "source": [
    "- 테스트 1 〉\t실패 (110.51ms, 16MB)\n",
    "- 테스트 2 〉\t실패 (57.55ms, 13.2MB)\n",
    "- 테스트 3 〉\t실패 (136.08ms, 17.9MB)\n",
    "- 테스트 4 〉\t실패 (3.06ms, 10.4MB)\n",
    "- 테스트 5 〉\t실패 (95.95ms, 15.5MB)\n",
    "- 테스트 6 〉\t실패 (87.72ms, 14.8MB)\n",
    "- 테스트 7 〉\t통과 (0.04ms, 10.2MB)\n",
    "- 테스트 8 〉\t통과 (0.03ms, 10.2MB)\n",
    "- 테스트 9 〉\t통과 (0.05ms, 10.2MB)\n",
    "- 테스트 10 〉\t통과 (0.03ms, 10.2MB)\n",
    "- 테스트 11 〉\t실패 (0.05ms, 10.2MB)\n",
    "- 테스트 12 〉\t통과 (0.01ms, 10.3MB)\n",
    "- 테스트 13 〉\t실패 (0.01ms, 10.2MB)\n",
    "- 테스트 14 〉\t실패 (0.02ms, 10.2MB)\n",
    "- 테스트 15 〉\t통과 (0.01ms, 10.2MB)"
   ]
  },
  {
   "cell_type": "code",
   "execution_count": 110,
   "metadata": {},
   "outputs": [],
   "source": [
    "def solution(numbers):\n",
    "    answer = \"\"\n",
    "    target = sorted([  (float( str(x)[0]+ '.'+ (str(x)*5)[1:6] ), str(x) ) for x in numbers ] , reverse=True)\n",
    "    for x in target:\n",
    "        answer += x[1]\n",
    "    return str(int(answer))"
   ]
  },
  {
   "cell_type": "markdown",
   "metadata": {},
   "source": [
    "- 테스트 1 〉\t통과 (891.03ms, 24.8MB)\n",
    "- 테스트 2 〉\t통과 (280.28ms, 18.1MB)\n",
    "- 테스트 3 〉\t통과 (1391.73ms, 29.9MB)\n",
    "- 테스트 4 〉\t통과 (3.31ms, 10.7MB)\n",
    "- 테스트 5 〉\t통과 (702.98ms, 23.1MB)\n",
    "- 테스트 6 〉\t통과 (543.47ms, 21.5MB)\n",
    "- 테스트 7 〉\t통과 (0.04ms, 10.4MB)\n",
    "- 테스트 8 〉\t통과 (0.04ms, 10.4MB)\n",
    "- 테스트 9 〉\t통과 (0.04ms, 10.4MB)\n",
    "- 테스트 10 〉\t통과 (0.04ms, 10.4MB)\n",
    "- 테스트 11 〉\t통과 (0.06ms, 10.5MB)\n",
    "- 테스트 12 〉\t통과 (0.02ms, 10.3MB)\n",
    "- 테스트 13 〉\t통과 (0.03ms, 10.4MB)\n",
    "- 테스트 14 〉\t통과 (0.03ms, 10.4MB)\n",
    "- 테스트 15 〉\t통과 (0.03ms, 10.3MB)"
   ]
  },
  {
   "cell_type": "markdown",
   "metadata": {},
   "source": [
    "## sting 비교를 이용한 다른 사람의 풀이"
   ]
  },
  {
   "cell_type": "code",
   "execution_count": 116,
   "metadata": {},
   "outputs": [],
   "source": [
    "def solution(numbers):\n",
    "    numbers = list(map(str, numbers))\n",
    "    numbers.sort(key=lambda x: x*3, reverse=True)\n",
    "    return str(int(''.join(numbers)))"
   ]
  },
  {
   "cell_type": "markdown",
   "metadata": {},
   "source": [
    "- 테스트 1 〉\t통과 (810.10ms, 23.4MB)\n",
    "- 테스트 2 〉\t통과 (268.88ms, 17.1MB)\n",
    "- 테스트 3 〉\t통과 (1475.18ms, 27.4MB)\n",
    "- 테스트 4 〉\t통과 (2.56ms, 10.5MB)\n",
    "- 테스트 5 〉\t통과 (605.56ms, 21.9MB)\n",
    "- 테스트 6 〉\t통과 (497.48ms, 20.3MB)\n",
    "- 테스트 7 〉\t통과 (0.03ms, 10.4MB)\n",
    "- 테스트 8 〉\t통과 (0.03ms, 10.3MB)\n",
    "- 테스트 9 〉\t통과 (0.03ms, 10.4MB)\n",
    "- 테스트 10 〉\t통과 (0.02ms, 10.3MB)\n",
    "- 테스트 11 〉\t통과 (0.04ms, 10.4MB)\n",
    "- 테스트 12 〉\t통과 (0.03ms, 10.4MB)\n",
    "- 테스트 13 〉\t통과 (0.02ms, 10.5MB)\n",
    "- 테스트 14 〉\t통과 (0.03ms, 10.3MB)\n",
    "- 테스트 15 〉\t통과 (0.02ms, 10.4MB)"
   ]
  }
 ],
 "metadata": {
  "interpreter": {
   "hash": "e64d8dcf9c098651a20efd68037575e2ded99423c9980114527a11e03f988414"
  },
  "kernelspec": {
   "display_name": "Python 3.8.5 64-bit ('base': conda)",
   "name": "python3"
  },
  "language_info": {
   "codemirror_mode": {
    "name": "ipython",
    "version": 3
   },
   "file_extension": ".py",
   "mimetype": "text/x-python",
   "name": "python",
   "nbconvert_exporter": "python",
   "pygments_lexer": "ipython3",
   "version": "3.8.5"
  },
  "orig_nbformat": 4
 },
 "nbformat": 4,
 "nbformat_minor": 2
}
