{
 "cells": [
  {
   "cell_type": "markdown",
   "metadata": {},
   "source": [
    "### **문제 설명**\n",
    "\n",
    "n개의 노드가 있는 그래프가 있습니다. 각 노드는 1부터 n까지 번호가 적혀있습니다. 1번 노드에서 가장 멀리 떨어진 노드의 갯수를 구하려고 합니다. 가장 멀리 떨어진 노드란 최단경로로 이동했을 때 간선의 개수가 가장 많은 노드들을 의미합니다.\n",
    "\n",
    "노드의 개수 n, 간선에 대한 정보가 담긴 2차원 배열 vertex가 매개변수로 주어질 때, 1번 노드로부터 가장 멀리 떨어진 노드가 몇 개인지를 return 하도록 solution 함수를 작성해주세요.\n",
    "\n",
    "### 제한사항\n",
    "\n",
    "- 노드의 개수 n은 2 이상 20,000 이하입니다.\n",
    "- 간선은 양방향이며 총 1개 이상 50,000개 이하의 간선이 있습니다.\n",
    "- vertex 배열 각 행 [a, b]는 a번 노드와 b번 노드 사이에 간선이 있다는 의미입니다.\n",
    "\n",
    "### 입출력 예\n",
    "\n",
    "### 입출력 예 설명\n",
    "\n",
    "예제의 그래프를 표현하면 아래 그림과 같고, 1번 노드에서 가장 멀리 떨어진 노드는 4,5,6번 노드입니다.\n",
    "\n",
    "![https://grepp-programmers.s3.amazonaws.com/files/ybm/fadbae38bb/dec85ab5-0273-47b3-ba73-fc0b5f6be28a.png](https://grepp-programmers.s3.amazonaws.com/files/ybm/fadbae38bb/dec85ab5-0273-47b3-ba73-fc0b5f6be28a.png)"
   ]
  },
  {
   "cell_type": "code",
   "execution_count": 9,
   "metadata": {},
   "outputs": [],
   "source": [
    "import heapq\n",
    "\n",
    "def solution(n, edge):\n",
    "    INF = int(1e9)\n",
    "    graph = [ [] for _ in range(n+1) ]\n",
    "    for a, b in edge:\n",
    "        graph[a].append((b, 1))\n",
    "        graph[b].append((a, 1))\n",
    "    distance = [INF] * (n+1)\n",
    "    \n",
    "    def dijkstra(start):\n",
    "        q = []\n",
    "        heapq.heappush(q, (0, start))\n",
    "        distance[start] = 0\n",
    "        while q: \n",
    "            dist, now = heapq.heappop(q)\n",
    "            if distance[now] < dist:\n",
    "                continue\n",
    "            for i in graph[now]:\n",
    "                cost = dist + i[1]\n",
    "                if cost < distance[i[0]]:\n",
    "                    distance[i[0]] = cost\n",
    "                    heapq.heappush(q, (cost, i[0]))\n",
    "    dijkstra(1)\n",
    "    n_d = [ x for x in distance if x < INF ]\n",
    "    answer = len(list(filter(lambda x: x==max(n_d), n_d)))\n",
    "    return answer"
   ]
  },
  {
   "cell_type": "markdown",
   "metadata": {},
   "source": [
    "- 테스트 1 〉\t통과 (0.02ms, 10.4MB)\n",
    "- 테스트 2 〉\t통과 (0.10ms, 10.1MB)\n",
    "- 테스트 3 〉\t통과 (0.10ms, 10.2MB)\n",
    "- 테스트 4 〉\t통과 (0.53ms, 10.2MB)\n",
    "- 테스트 5 〉\t통과 (5.77ms, 10.3MB)\n",
    "- 테스트 6 〉\t통과 (27.31ms, 11.3MB)\n",
    "- 테스트 7 〉\t통과 (2174.66ms, 21.4MB)\n",
    "- 테스트 8 〉\t통과 (5971.15ms, 26.9MB)\n",
    "- 테스트 9 〉\t통과 (6349.40ms, 27MB)"
   ]
  },
  {
   "cell_type": "markdown",
   "metadata": {},
   "source": []
  }
 ],
 "metadata": {
  "interpreter": {
   "hash": "e64d8dcf9c098651a20efd68037575e2ded99423c9980114527a11e03f988414"
  },
  "kernelspec": {
   "display_name": "Python 3.8.12 ('base')",
   "language": "python",
   "name": "python3"
  },
  "language_info": {
   "codemirror_mode": {
    "name": "ipython",
    "version": 3
   },
   "file_extension": ".py",
   "mimetype": "text/x-python",
   "name": "python",
   "nbconvert_exporter": "python",
   "pygments_lexer": "ipython3",
   "version": "3.8.12"
  },
  "orig_nbformat": 4
 },
 "nbformat": 4,
 "nbformat_minor": 2
}
