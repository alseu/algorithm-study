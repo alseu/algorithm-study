{
 "cells": [
  {
   "cell_type": "markdown",
   "source": [
    "문제 설명\r\n",
    "점심시간에 도둑이 들어, 일부 학생이 체육복을 도난당했습니다. 다행히 여벌 체육복이 있는 학생이 이들에게 체육복을 빌려주려 합니다. 학생들의 번호는 체격 순으로 매겨져 있어, 바로 앞번호의 학생이나 바로 뒷번호의 학생에게만 체육복을 빌려줄 수 있습니다. 예를 들어, 4번 학생은 3번 학생이나 5번 학생에게만 체육복을 빌려줄 수 있습니다. 체육복이 없으면 수업을 들을 수 없기 때문에 체육복을 적절히 빌려 최대한 많은 학생이 체육수업을 들어야 합니다.\r\n",
    "\r\n",
    "전체 학생의 수 n, 체육복을 도난당한 학생들의 번호가 담긴 배열 lost, 여벌의 체육복을 가져온 학생들의 번호가 담긴 배열 reserve가 매개변수로 주어질 때, 체육수업을 들을 수 있는 학생의 최댓값을 return 하도록 solution 함수를 작성해주세요.\r\n",
    "\r\n",
    "제한사항\r\n",
    "전체 학생의 수는 2명 이상 30명 이하입니다.\r\n",
    "체육복을 도난당한 학생의 수는 1명 이상 n명 이하이고 중복되는 번호는 없습니다.\r\n",
    "여벌의 체육복을 가져온 학생의 수는 1명 이상 n명 이하이고 중복되는 번호는 없습니다.\r\n",
    "여벌 체육복이 있는 학생만 다른 학생에게 체육복을 빌려줄 수 있습니다.\r\n",
    "여벌 체육복을 가져온 학생이 체육복을 도난당했을 수 있습니다. 이때 이 학생은 체육복을 하나만 도난당했다고 가정하며, 남은 체육복이 하나이기에 다른 학생에게는 체육복을 빌려줄 수 없습니다.\r\n",
    "입출력 예\r\n",
    "n\tlost\treserve\treturn\r\n",
    "5\t[2, 4]\t[1, 3, 5]\t5\r\n",
    "5\t[2, 4]\t[3]\t4\r\n",
    "3\t[3]\t[1]\t2\r\n",
    "입출력 예 설명\r\n",
    "예제 #1\r\n",
    "1번 학생이 2번 학생에게 체육복을 빌려주고, 3번 학생이나 5번 학생이 4번 학생에게 체육복을 빌려주면 학생 5명이 체육수업을 들을 수 있습니다.\r\n",
    "\r\n",
    "예제 #2\r\n",
    "3번 학생이 2번 학생이나 4번 학생에게 체육복을 빌려주면 학생 4명이 체육수업을 들을 수 있습니다.\r\n",
    "\r\n",
    "출처\r\n",
    "\r\n",
    "※ 공지 - 2019년 2월 18일 지문이 리뉴얼되었습니다.\r\n",
    "※ 공지 - 2019년 2월 27일, 28일 테스트케이스가 추가되었습니다.\r\n",
    "※ 공지 - 2021년 7월 28일 테스트케이스가 추가되었습니다.\r\n",
    "※ 공지 - 2021년 8월 30일 테스트케이스가 추가되었습니다.\r\n",
    "\r\n",
    "출처: 프로그래머스 코딩 테스트 연습, https://programmers.co.kr/learn/challenges"
   ],
   "metadata": {}
  },
  {
   "cell_type": "code",
   "execution_count": 18,
   "source": [
    "def solution(n, lost, reserve): \r\n",
    "    answer = n-len(lost)\r\n",
    "    for i in lost:\r\n",
    "        for j in reserve:\r\n",
    "            if(j == i-1):\r\n",
    "                answer += 1\r\n",
    "                reserve.remove(j)\r\n",
    "            elif(j == i+1):\r\n",
    "                answer += 1\r\n",
    "                reserve.remove(j)\r\n",
    "\r\n",
    "    return answer"
   ],
   "outputs": [],
   "metadata": {}
  },
  {
   "cell_type": "markdown",
   "source": [
    "테스트 1 〉\t    통과 (0.01ms, 10.3MB)\r\n",
    "테스트 2 〉\t    실패 (0.01ms, 10.2MB)\r\n",
    "테스트 3 〉\t    실패 (0.01ms, 10.1MB)\r\n",
    "테스트 4 〉\t    통과 (0.01ms, 10.3MB)\r\n",
    "테스트 5 〉\t    실패 (0.01ms, 10.3MB)\r\n",
    "테스트 6 〉\t    통과 (0.00ms, 10.2MB)\r\n",
    "테스트 7 〉\t    실패 (0.02ms, 10.2MB)\r\n",
    "테스트 8 〉\t    통과 (0.00ms, 10.2MB)\r\n",
    "테스트 9 〉\t    통과 (0.00ms, 10.3MB)\r\n",
    "테스트 10 〉\t통과 (0.01ms, 10.3MB)\r\n",
    "테스트 11 〉\t통과 (0.00ms, 10.2MB)\r\n",
    "테스트 12 〉\t실패 (0.00ms, 10.2MB)\r\n",
    "테스트 13 〉\t실패 (0.00ms, 10.2MB)\r\n",
    "테스트 14 〉\t통과 (0.00ms, 10.2MB)\r\n",
    "테스트 15 〉\t통과 (0.00ms, 10.2MB)\r\n",
    "테스트 16 〉\t통과 (0.00ms, 10.2MB)\r\n",
    "테스트 17 〉\t통과 (0.00ms, 10.2MB)\r\n",
    "테스트 18 〉\t실패 (0.00ms, 10.2MB)\r\n",
    "테스트 19 〉\t통과 (0.00ms, 10.2MB)\r\n",
    "테스트 20 〉\t통과 (0.00ms, 10.2MB)\r\n",
    "채점 결과\r\n",
    "정확성: 65.0\r\n",
    "합계: 65.0 / 100.0"
   ],
   "metadata": {}
  },
  {
   "cell_type": "code",
   "execution_count": 29,
   "source": [
    "def solution(n, lost, reserve): \r\n",
    "    answer = n-len(lost)\r\n",
    "    for j in reserve:\r\n",
    "        for i in lost:\r\n",
    "            if(j == i-1):\r\n",
    "                answer += 1\r\n",
    "                lost.remove(i)\r\n",
    "            elif(j == i+1):\r\n",
    "                answer += 1\r\n",
    "                lost.remove(i)\r\n",
    "\r\n",
    "    return answer"
   ],
   "outputs": [],
   "metadata": {}
  },
  {
   "cell_type": "markdown",
   "source": [
    "테스트 1 〉\t    실패 (0.01ms, 10.3MB)\r\n",
    "테스트 2 〉\t    실패 (0.01ms, 10.2MB)\r\n",
    "테스트 3 〉\t    통과 (0.01ms, 10.3MB)\r\n",
    "테스트 4 〉\t    실패 (0.00ms, 10.2MB)\r\n",
    "테스트 5 〉\t    실패 (0.01ms, 10.2MB)\r\n",
    "테스트 6 〉\t    통과 (0.00ms, 10.2MB)\r\n",
    "테스트 7 〉\t    통과 (0.02ms, 10.1MB)\r\n",
    "테스트 8 〉\t    통과 (0.00ms, 10.2MB)\r\n",
    "테스트 9 〉\t    통과 (0.00ms, 10.2MB)\r\n",
    "테스트 10 〉\t실패 (0.01ms, 10.2MB)\r\n",
    "테스트 11 〉\t통과 (0.00ms, 10.2MB)\r\n",
    "테스트 12 〉\t실패 (0.00ms, 10.2MB)\r\n",
    "테스트 13 〉\t실패 (0.00ms, 10.3MB)\r\n",
    "테스트 14 〉\t통과 (0.00ms, 10.2MB)\r\n",
    "테스트 15 〉\t통과 (0.00ms, 10.2MB)\r\n",
    "테스트 16 〉\t통과 (0.00ms, 10.2MB)\r\n",
    "테스트 17 〉\t통과 (0.00ms, 10.2MB)\r\n",
    "테스트 18 〉\t실패 (0.00ms, 10.2MB)\r\n",
    "테스트 19 〉\t통과 (0.00ms, 10.2MB)\r\n",
    "테스트 20 〉\t통과 (0.00ms, 10.2MB)\r\n",
    "채점 결과\r\n",
    "정확성: 60.0\r\n",
    "합계: 60.0 / 100.0"
   ],
   "metadata": {}
  },
  {
   "cell_type": "code",
   "execution_count": 84,
   "source": [
    "def solution(n, lost, reserve): \r\n",
    "    answer = n-len(lost)\r\n",
    "    reserve.sort()\r\n",
    "    lost.sort()\r\n",
    "    tmp = []\r\n",
    "    for i in lost:\r\n",
    "        if (i in reserve):\r\n",
    "            tmp.append(i)\r\n",
    "            \r\n",
    "    for i in tmp:\r\n",
    "        answer += 1\r\n",
    "        reserve.remove(i)\r\n",
    "        lost.remove(i)\r\n",
    "            \r\n",
    "    for i in lost:\r\n",
    "        if (i-1 in reserve):\r\n",
    "            answer += 1\r\n",
    "            reserve.remove(i-1)\r\n",
    "        elif (i+1 in reserve):\r\n",
    "            answer += 1\r\n",
    "            reserve.remove(i+1)\r\n",
    "\r\n",
    "    return answer"
   ],
   "outputs": [],
   "metadata": {}
  },
  {
   "cell_type": "code",
   "execution_count": 98,
   "source": [
    "import numpy as np\r\n",
    "def solution(n, lost, reserve): \r\n",
    "    answer = n-len(lost)\r\n",
    "    tmp = np.ones(n)\r\n",
    "    for i in lost:      tmp[i-1] -= 1\r\n",
    "    for i in reserve:   tmp[i-1] += 1\r\n",
    "\r\n",
    "    i = 0            \r\n",
    "    while i<n:\r\n",
    "        if (tmp[i] == 0):\r\n",
    "            if(i>0):\r\n",
    "                if(tmp[i-1]==2):\r\n",
    "                    tmp[i-1] -= 1\r\n",
    "                    tmp[i] += 1\r\n",
    "                    continue\r\n",
    "            if(i<n-1):\r\n",
    "                if (tmp[i+1] == 2):\r\n",
    "                    tmp[i+1] -= 1\r\n",
    "                    tmp[i] += 1\r\n",
    "                    continue\r\n",
    "        i+=1\r\n",
    "\r\n",
    "    return n-np.count_nonzero(tmp==0)"
   ],
   "outputs": [],
   "metadata": {}
  },
  {
   "cell_type": "code",
   "execution_count": 99,
   "source": [
    "print(\"case #1\")\r\n",
    "if(solution(5, [2,4], [1,3,5])==5):     print(\"-PASS\")\r\n",
    "else:                                   print(\"-FAIL\")#, solution(5, [2, 4], [1, 3, 5]))\r\n",
    "print(\"case #2\")\r\n",
    "if(solution(5, [2,4], [3])==4):         print(\"-PASS\")\r\n",
    "else:                                   print(\"-FAIL\", solution(5, [2, 4], [3]))\r\n",
    "print(\"case #3\")\r\n",
    "if(solution(3, [3], [1])==2):           print(\"-PASS\")\r\n",
    "else:                                   print(\"-FAIL\", solution(3, [3], [1]))\r\n",
    "print(\"case #4\")\r\n",
    "if(solution(6, [2,5,6], [2,4,6])==6):   print(\"-PASS\")\r\n",
    "else:                                   print(\"-FAIL\", solution(6, [2,5,6], [2, 4, 6]))"
   ],
   "outputs": [
    {
     "output_type": "stream",
     "name": "stdout",
     "text": [
      "case #1\n",
      "-PASS\n",
      "case #2\n",
      "-PASS\n",
      "case #3\n",
      "-PASS\n",
      "case #4\n",
      "-PASS\n"
     ]
    }
   ],
   "metadata": {}
  },
  {
   "cell_type": "code",
   "execution_count": 102,
   "source": [
    "a = [1,2,3,1,3]\r\n",
    "print(a)\r\n",
    "a.remove(1)\r\n",
    "a.sort()\r\n",
    "print(a)"
   ],
   "outputs": [
    {
     "output_type": "stream",
     "name": "stdout",
     "text": [
      "[1, 2, 3, 1, 3]\n",
      "[1, 2, 3, 3]\n"
     ]
    }
   ],
   "metadata": {}
  },
  {
   "cell_type": "code",
   "execution_count": 101,
   "source": [
    "a = [1,3,5,7]\r\n",
    "print(a[ x for x in list if x!=3 ])"
   ],
   "outputs": [
    {
     "output_type": "error",
     "ename": "SyntaxError",
     "evalue": "invalid syntax (<ipython-input-101-2385b5fbedf3>, line 2)",
     "traceback": [
      "\u001b[1;36m  File \u001b[1;32m\"<ipython-input-101-2385b5fbedf3>\"\u001b[1;36m, line \u001b[1;32m2\u001b[0m\n\u001b[1;33m    print(a[ x for x in list if x!=3 ])\u001b[0m\n\u001b[1;37m               ^\u001b[0m\n\u001b[1;31mSyntaxError\u001b[0m\u001b[1;31m:\u001b[0m invalid syntax\n"
     ]
    }
   ],
   "metadata": {}
  },
  {
   "cell_type": "code",
   "execution_count": null,
   "source": [],
   "outputs": [],
   "metadata": {}
  }
 ],
 "metadata": {
  "orig_nbformat": 4,
  "language_info": {
   "name": "python",
   "version": "3.8.5",
   "mimetype": "text/x-python",
   "codemirror_mode": {
    "name": "ipython",
    "version": 3
   },
   "pygments_lexer": "ipython3",
   "nbconvert_exporter": "python",
   "file_extension": ".py"
  },
  "kernelspec": {
   "name": "python3",
   "display_name": "Python 3.8.5 64-bit ('base': conda)"
  },
  "interpreter": {
   "hash": "b3ba2566441a7c06988d0923437866b63cedc61552a5af99d1f4fb67d367b25f"
  }
 },
 "nbformat": 4,
 "nbformat_minor": 2
}