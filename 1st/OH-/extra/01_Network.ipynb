{
 "cells": [
  {
   "cell_type": "markdown",
   "source": [
    "01_Network.py"
   ],
   "metadata": {}
  },
  {
   "cell_type": "markdown",
   "source": [
    "문제 설명\r\n",
    "네트워크란 컴퓨터 상호 간에 정보를 교환할 수 있도록 연결된 형태를 의미합니다. 예를 들어, 컴퓨터 A와 컴퓨터 B가 직접적으로 연결되어있고, 컴퓨터 B와 컴퓨터 C가 직접적으로 연결되어 있을 때 컴퓨터 A와 컴퓨터 C도 간접적으로 연결되어 정보를 교환할 수 있습니다. 따라서 컴퓨터 A, B, C는 모두 같은 네트워크 상에 있다고 할 수 있습니다.\r\n",
    "\r\n",
    "컴퓨터의 개수 n, 연결에 대한 정보가 담긴 2차원 배열 computers가 매개변수로 주어질 때, 네트워크의 개수를 return 하도록 solution 함수를 작성하시오.\r\n",
    "\r\n",
    "제한사항\r\n",
    "컴퓨터의 개수 n은 1 이상 200 이하인 자연수입니다.\r\n",
    "각 컴퓨터는 0부터 n-1인 정수로 표현합니다.\r\n",
    "i번 컴퓨터와 j번 컴퓨터가 연결되어 있으면 computers[i][j]를 1로 표현합니다.\r\n",
    "computer[i][i]는 항상 1입니다.\r\n",
    "입출력 예\r\n",
    "n\tcomputers\treturn\r\n",
    "3\t[[1, 1, 0], [1, 1, 0], [0, 0, 1]]\t2\r\n",
    "3\t[[1, 1, 0], [1, 1, 1], [0, 1, 1]]\t1\r\n",
    "입출력 예 설명\r\n",
    "예제 #1\r\n",
    "아래와 같이 2개의 네트워크가 있습니다.\r\n",
    "image0.png\r\n",
    "\r\n",
    "예제 #2\r\n",
    "아래와 같이 1개의 네트워크가 있습니다.\r\n",
    "image1.png\r\n",
    "\r\n",
    "https://programmers.co.kr/learn/courses/30/lessons/43162\r\n",
    "\r\n",
    "출처: 프로그래머스 코딩 테스트 연습, https://programmers.co.kr/learn/challenges"
   ],
   "metadata": {}
  },
  {
   "cell_type": "code",
   "execution_count": 1,
   "source": [
    "# 리스트 computers는 무조건 n*n 정방행렬\r\n",
    "# 너비 우선 탐색(?)\r\n",
    "\r\n",
    "def solution(n, computers):\r\n",
    "    answer = 0\r\n",
    "    i = 0, j = 0\r\n",
    "    while(i<n):\r\n",
    "        while(j<n):\r\n",
    "            if(computers[i][j] == True):\r\n",
    "                j += 1\r\n",
    "            else:\r\n",
    "                pass\r\n",
    "\r\n",
    "        i += 1\r\n",
    "\r\n",
    "    return answer"
   ],
   "outputs": [],
   "metadata": {}
  },
  {
   "cell_type": "code",
   "execution_count": 5,
   "source": [
    "print( solution(3, [[1, 1, 0], [1, 1, 0], [0, 0, 1]]) )   #2\r\n",
    "print( solution(3, [[1, 1, 0], [1, 1, 1], [0, 1, 1]]) )   #1"
   ],
   "outputs": [
    {
     "output_type": "stream",
     "name": "stdout",
     "text": [
      "3\n",
      "None\n",
      "3\n",
      "None\n"
     ]
    }
   ],
   "metadata": {}
  }
 ],
 "metadata": {
  "orig_nbformat": 4,
  "language_info": {
   "name": "python",
   "version": "3.8.5",
   "mimetype": "text/x-python",
   "codemirror_mode": {
    "name": "ipython",
    "version": 3
   },
   "pygments_lexer": "ipython3",
   "nbconvert_exporter": "python",
   "file_extension": ".py"
  },
  "kernelspec": {
   "name": "python3",
   "display_name": "Python 3.8.5 64-bit ('base': conda)"
  },
  "interpreter": {
   "hash": "ce1dda2b853e17d6321d126fd571ddea4c93c51c6585c96b9094decb7517e76c"
  }
 },
 "nbformat": 4,
 "nbformat_minor": 2
}