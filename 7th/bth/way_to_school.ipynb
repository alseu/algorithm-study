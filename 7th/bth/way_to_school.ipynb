{
 "cells": [
  {
   "cell_type": "markdown",
   "metadata": {},
   "source": [
    "### 등굣길"
   ]
  },
  {
   "cell_type": "code",
   "execution_count": null,
   "metadata": {},
   "outputs": [],
   "source": [
    "def solution(m, n, puddles):\n",
    "    result = {(1,1):1}\n",
    "    for [a,b] in puddles:\n",
    "        result[(a,b)] = 0\n",
    "    \n",
    "    def get_route(m, n):\n",
    "        if m == 0 or n == 0:\n",
    "            return 0\n",
    "        if (m, n) not in result:\n",
    "            result[(m, n)] = get_route(m-1, n) + get_route(m, n-1)\n",
    "        return result[(m, n)]\n",
    "\n",
    "    answer = get_route(m, n) % 1000000007\n",
    "    \n",
    "    return answer"
   ]
  },
  {
   "cell_type": "markdown",
   "metadata": {},
   "source": [
    "- 경로의 갯수를 구하는 문제\n",
    "- 오른쪽과 아랫쪽으로만 움직일 수 있으므로 되돌아가는 길은 없음\n",
    "- 현재 위치까지 오는 경로는 위에서 오는 것과 왼쪽에서 오는 것을 합친수\n",
    "- 효율성 테스트를 위해서 메모이제이션\n",
    "- 이중배열을 쓸까 고민했지만 튜플을 키로 잡아 dict를 사용하면 성능면이나 편의성 면에서 유리하다고 생각"
   ]
  }
 ],
 "metadata": {
  "interpreter": {
   "hash": "e64d8dcf9c098651a20efd68037575e2ded99423c9980114527a11e03f988414"
  },
  "kernelspec": {
   "display_name": "Python 3.8.5 64-bit ('base': conda)",
   "language": "python",
   "name": "python3"
  },
  "language_info": {
   "name": "python",
   "version": "3.8.5"
  },
  "orig_nbformat": 4
 },
 "nbformat": 4,
 "nbformat_minor": 2
}
