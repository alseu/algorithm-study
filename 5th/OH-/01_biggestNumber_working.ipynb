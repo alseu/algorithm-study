{
 "cells": [
  {
   "cell_type": "code",
   "execution_count": 40,
   "source": [
    "import itertools"
   ],
   "outputs": [],
   "metadata": {}
  },
  {
   "cell_type": "code",
   "execution_count": 91,
   "source": [
    "import time"
   ],
   "outputs": [],
   "metadata": {}
  },
  {
   "cell_type": "code",
   "execution_count": 65,
   "source": [
    "def solution(numbers):\r\n",
    "    numPermutations = itertools.permutations(numbers)\r\n",
    "    numList = []\r\n",
    "    \r\n",
    "    for i in numPermutations:\r\n",
    "        tmpStr = ''\r\n",
    "        for j in i:\r\n",
    "            tmpStr += str(j)\r\n",
    "        numList.append(int(tmpStr))\r\n",
    "\r\n",
    "    return max(numList)"
   ],
   "outputs": [],
   "metadata": {}
  },
  {
   "cell_type": "code",
   "execution_count": 79,
   "source": [
    "def solution(numbers):\r\n",
    "    numPermutations = itertools.permutations(numbers)\r\n",
    "    numList = []\r\n",
    "    \r\n",
    "    for i in numPermutations:\r\n",
    "        numList.append(''.join(list(map(str, list(i)))))\r\n",
    "\r\n",
    "    return max(numList)"
   ],
   "outputs": [],
   "metadata": {}
  },
  {
   "cell_type": "code",
   "execution_count": 101,
   "source": [
    "def solution(numbers):\r\n",
    "    # print time\r\n",
    "    tm = []\r\n",
    "    tm.append(time.perf_counter())\r\n",
    "    \r\n",
    "    numPermutations = itertools.permutations(numbers)\r\n",
    "\r\n",
    "    # print time\r\n",
    "    print(time.perf_counter()-tm[-1])\r\n",
    "    tm.append(time.perf_counter())\r\n",
    "    \r\n",
    "    numList = [''.join( map(str, x) ) for x in numPermutations]\r\n",
    "    \r\n",
    "    # print time\r\n",
    "    print(time.perf_counter()-tm[-1])\r\n",
    "    tm.append(time.perf_counter())\r\n",
    "    \r\n",
    "    ret = max(numList)\r\n",
    "    \r\n",
    "    # print time\r\n",
    "    print(time.perf_counter()-tm[-1])\r\n",
    "    \r\n",
    "    return ret\r\n"
   ],
   "outputs": [],
   "metadata": {}
  },
  {
   "cell_type": "code",
   "execution_count": 102,
   "source": [
    "print(solution([6, 10, 2]))\t            # \"6210\"\r\n",
    "print(solution([3, 30, 34, 5, 9]))\t    # \"9534330\""
   ],
   "outputs": [
    {
     "output_type": "stream",
     "name": "stdout",
     "text": [
      "1.2000000424450263e-06\n",
      "2.1800000013172394e-05\n",
      "1.2000000424450263e-06\n",
      "6210\n",
      "8.000001798791345e-07\n",
      "0.00024500000017724233\n",
      "4.199999693810241e-06\n",
      "9534330\n"
     ]
    }
   ],
   "metadata": {}
  },
  {
   "cell_type": "code",
   "execution_count": 98,
   "source": [
    "arr = [1,2,3]\r\n",
    "permut = itertools.permutations(arr)\r\n",
    "res = [''.join( map(str, x) ) for x in permut if x[0]==max(arr)]\r\n",
    "\r\n",
    "print(type(res))\r\n",
    "print(res)"
   ],
   "outputs": [
    {
     "output_type": "stream",
     "name": "stdout",
     "text": [
      "<class 'list'>\n",
      "['312', '321']\n"
     ]
    }
   ],
   "metadata": {}
  },
  {
   "cell_type": "code",
   "execution_count": null,
   "source": [],
   "outputs": [],
   "metadata": {}
  }
 ],
 "metadata": {
  "orig_nbformat": 4,
  "language_info": {
   "name": "python",
   "version": "3.8.5",
   "mimetype": "text/x-python",
   "codemirror_mode": {
    "name": "ipython",
    "version": 3
   },
   "pygments_lexer": "ipython3",
   "nbconvert_exporter": "python",
   "file_extension": ".py"
  },
  "kernelspec": {
   "name": "python3",
   "display_name": "Python 3.8.5 64-bit ('base': conda)"
  },
  "interpreter": {
   "hash": "ce1dda2b853e17d6321d126fd571ddea4c93c51c6585c96b9094decb7517e76c"
  }
 },
 "nbformat": 4,
 "nbformat_minor": 2
}