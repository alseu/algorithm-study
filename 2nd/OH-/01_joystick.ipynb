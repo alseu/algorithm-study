{
 "cells": [
  {
   "cell_type": "markdown",
   "source": [
    "문제 설명\r\n",
    "조이스틱으로 알파벳 이름을 완성하세요. 맨 처음엔 A로만 이루어져 있습니다.\r\n",
    "ex) 완성해야 하는 이름이 세 글자면 AAA, 네 글자면 AAAA\r\n",
    "\r\n",
    "조이스틱을 각 방향으로 움직이면 아래와 같습니다.\r\n",
    "\r\n",
    "▲ - 다음 알파벳\r\n",
    "▼ - 이전 알파벳 (A에서 아래쪽으로 이동하면 Z로)\r\n",
    "◀ - 커서를 왼쪽으로 이동 (첫 번째 위치에서 왼쪽으로 이동하면 마지막 문자에 커서)\r\n",
    "▶ - 커서를 오른쪽으로 이동\r\n",
    "예를 들어 아래의 방법으로 \"JAZ\"를 만들 수 있습니다.\r\n",
    "\r\n",
    "- 첫 번째 위치에서 조이스틱을 위로 9번 조작하여 J를 완성합니다.\r\n",
    "- 조이스틱을 왼쪽으로 1번 조작하여 커서를 마지막 문자 위치로 이동시킵니다.\r\n",
    "- 마지막 위치에서 조이스틱을 아래로 1번 조작하여 Z를 완성합니다.\r\n",
    "따라서 11번 이동시켜 \"JAZ\"를 만들 수 있고, 이때가 최소 이동입니다.\r\n",
    "만들고자 하는 이름 name이 매개변수로 주어질 때, 이름에 대해 조이스틱 조작 횟수의 최솟값을 return 하도록 solution 함수를 만드세요.\r\n",
    "\r\n",
    "제한 사항\r\n",
    "name은 알파벳 대문자로만 이루어져 있습니다.\r\n",
    "name의 길이는 1 이상 20 이하입니다.\r\n",
    "입출력 예\r\n",
    "name\treturn\r\n",
    "\"JEROEN\"\t56\r\n",
    "\"JAN\"\t23\r\n",
    "\r\n",
    "출처: 프로그래머스 코딩 테스트 연습, https://programmers.co.kr/learn/challenges"
   ],
   "metadata": {}
  },
  {
   "cell_type": "code",
   "execution_count": 26,
   "source": [
    "def solution(name):\r\n",
    "    answer = len(name)-1\r\n",
    "    if( name[1]=='A' or name[-1]=='A' ):\r\n",
    "        answer -= 1\r\n",
    "    for c in name:\r\n",
    "        cnt = ord(c)-ord('A')\r\n",
    "        if( cnt <= 13 ):\r\n",
    "            answer += cnt\r\n",
    "        else:\r\n",
    "            answer += 26-cnt\r\n",
    "    return answer"
   ],
   "outputs": [],
   "metadata": {}
  },
  {
   "cell_type": "markdown",
   "source": [
    "테스트 1 〉\t    통과 (0.00ms, 10.2MB)\r\n",
    "\r\n",
    "테스트 2 〉\t    통과 (0.00ms, 10.2MB)\r\n",
    "\r\n",
    "테스트 3 〉\t    통과 (0.00ms, 10.2MB)\r\n",
    "\r\n",
    "테스트 4 〉\t    통과 (0.00ms, 10.3MB)\r\n",
    "\r\n",
    "테스트 5 〉\t    통과 (0.00ms, 10.3MB)\r\n",
    "\r\n",
    "테스트 6 〉\t    통과 (0.00ms, 10.2MB)\r\n",
    "\r\n",
    "테스트 7 〉\t    통과 (0.00ms, 10.2MB)\r\n",
    "\r\n",
    "테스트 8 〉\t    통과 (0.00ms, 10.1MB)\r\n",
    "\r\n",
    "테스트 9 〉\t    통과 (0.00ms, 10.1MB)\r\n",
    "\r\n",
    "테스트 10 〉\t실패 (0.00ms, 10.2MB)\r\n",
    "\r\n",
    "테스트 11 〉\t실패 (0.00ms, 10.2MB)"
   ],
   "metadata": {}
  },
  {
   "cell_type": "code",
   "execution_count": 54,
   "source": [
    "def print_tab(n):\r\n",
    "    i=0\r\n",
    "    while( i<n ):\r\n",
    "        print(\"\\t\", end='')\r\n",
    "        i += 1\r\n"
   ],
   "outputs": [],
   "metadata": {}
  },
  {
   "cell_type": "code",
   "execution_count": 55,
   "source": [
    "def chk_A(name,n):\r\n",
    "    if( n>len(name)//2) :\r\n",
    "        return 0\r\n",
    "    ret = 0\r\n",
    "    print_tab(n)\r\n",
    "    print(ret)\r\n",
    "    if( name[n]=='A'):\r\n",
    "        ret += 1\r\n",
    "        print_tab(n)\r\n",
    "        print(ret)\r\n",
    "    if( name[-n]=='A'):\r\n",
    "        ret += 1\r\n",
    "        print_tab(n)\r\n",
    "        print(ret)\r\n",
    "    if(n==len(name)//2 and len(name)%2==0):\r\n",
    "        ret -= 1\r\n",
    "        print_tab(n)\r\n",
    "        print(ret)\r\n",
    "    if(ret):\r\n",
    "        return ret+chk_A(name,n+1)\r\n",
    "    else:\r\n",
    "        return 0"
   ],
   "outputs": [],
   "metadata": {}
  },
  {
   "cell_type": "code",
   "execution_count": 56,
   "source": [
    "def solution(name):\r\n",
    "    answer = len(name)-chk_A(name,1)-1\r\n",
    "\r\n",
    "    for c in name:\r\n",
    "        cnt = ord(c)-ord('A')\r\n",
    "        if( cnt <= 13 ):\r\n",
    "            answer += cnt\r\n",
    "        else:\r\n",
    "            answer += 26-cnt\r\n",
    "    return answer"
   ],
   "outputs": [],
   "metadata": {}
  },
  {
   "cell_type": "markdown",
   "source": [
    "테스트 1 〉\t    통과 (0.00ms, 10.3MB)\r\n",
    "\r\n",
    "테스트 2 〉\t    통과 (0.01ms, 10MB)\r\n",
    "\r\n",
    "테스트 3 〉\t    통과 (0.01ms, 10.2MB)\r\n",
    "\r\n",
    "테스트 4 〉\t    통과 (0.01ms, 10.1MB)\r\n",
    "\r\n",
    "테스트 5 〉\t    통과 (0.01ms, 10.2MB)\r\n",
    "\r\n",
    "테스트 6 〉\t    통과 (0.00ms, 10.3MB)\r\n",
    "\r\n",
    "테스트 7 〉\t    통과 (0.01ms, 10.3MB)\r\n",
    "\r\n",
    "테스트 8 〉\t    실패 (0.01ms, 10.1MB)\r\n",
    "\r\n",
    "테스트 9 〉\t    통과 (0.00ms, 10.2MB)\r\n",
    "\r\n",
    "테스트 10 〉\t통과 (0.01ms, 10.2MB)\r\n",
    "\r\n",
    "테스트 11 〉\t실패 (0.01ms, 10.2MB)"
   ],
   "metadata": {}
  },
  {
   "cell_type": "code",
   "execution_count": 57,
   "source": [
    "print(\"case #1\")\r\n",
    "if(solution(\"JEROEN\")==56):     print(\"-PASS\")\r\n",
    "else:                           print(\"-FAIL\", solution(\"JEROEN\"))\r\n",
    "\r\n",
    "print(\"case #2\")\r\n",
    "if(solution(\"JAN\")==23):        print(\"-PASS\")\r\n",
    "else:                           print(\"-FAIL\", solution(\"JAN\"))\r\n",
    "\r\n",
    "print(\"case #3\")\r\n",
    "if(solution(\"JAZ\")==11):        print(\"-PASS\")\r\n",
    "else:                           print(\"-FAIL\", solution(\"JAZ\"))\r\n",
    "\r\n",
    "print(\"case #4\")\r\n",
    "if(solution(\"AAAAAAAA\")==0):    print(\"-PASS\")\r\n",
    "else:                           print(\"-FAIL\", solution(\"AAAAAAAA\"))\r\n",
    "\r\n",
    "print(\"case #5\")\r\n",
    "if(solution(\"AAAAAAA\")==0):     print(\"-PASS\")\r\n",
    "else:                           print(\"-FAIL\", solution(\"AAAAAAA\"))\r\n",
    "\r\n",
    "print(\"case #6\")\r\n",
    "if(solution(\"AAAAAAAB\")==2):    print(\"-PASS\")\r\n",
    "else:                           print(\"-FAIL\", solution(\"AAAAAAAB\"))\r\n",
    "\r\n",
    "print(\"case #7\")\r\n",
    "if(solution(\"AAAAAAB\")==2):     print(\"-PASS\")\r\n",
    "else:                           print(\"-FAIL\", solution(\"AAAAAAB\"))\r\n",
    "\r\n",
    "print(\"case #8\")\r\n",
    "if(solution(\"AAZAAAAA\")==3):    print(\"-PASS\")\r\n",
    "else:                           print(\"-FAIL\", solution(\"AAZAAAAA\"))\r\n",
    "\r\n",
    "print(\"case #9\")\r\n",
    "if(solution(\"AABBAA\")==6):      print(\"-PASS\")\r\n",
    "else:                           print(\"-FAIL\", solution(\"AABBAA\"))\r\n"
   ],
   "outputs": [
    {
     "output_type": "stream",
     "name": "stdout",
     "text": [
      "case #1\n",
      "\t0\n",
      "-PASS\n",
      "case #2\n",
      "\t0\n",
      "\t1\n",
      "-PASS\n",
      "case #3\n",
      "\t0\n",
      "\t1\n",
      "-PASS\n",
      "case #4\n",
      "\t0\n",
      "\t1\n",
      "\t2\n",
      "\t\t0\n",
      "\t\t1\n",
      "\t\t2\n",
      "\t\t\t0\n",
      "\t\t\t1\n",
      "\t\t\t2\n",
      "\t\t\t\t0\n",
      "\t\t\t\t1\n",
      "\t\t\t\t2\n",
      "\t\t\t\t1\n",
      "-PASS\n",
      "case #5\n",
      "\t0\n",
      "\t1\n",
      "\t2\n",
      "\t\t0\n",
      "\t\t1\n",
      "\t\t2\n",
      "\t\t\t0\n",
      "\t\t\t1\n",
      "\t\t\t2\n",
      "-PASS\n",
      "case #6\n",
      "\t0\n",
      "\t1\n",
      "\t\t0\n",
      "\t\t1\n",
      "\t\t2\n",
      "\t\t\t0\n",
      "\t\t\t1\n",
      "\t\t\t2\n",
      "\t\t\t\t0\n",
      "\t\t\t\t1\n",
      "\t\t\t\t2\n",
      "\t\t\t\t1\n",
      "-PASS\n",
      "case #7\n",
      "\t0\n",
      "\t1\n",
      "\t\t0\n",
      "\t\t1\n",
      "\t\t2\n",
      "\t\t\t0\n",
      "\t\t\t1\n",
      "\t\t\t2\n",
      "-PASS\n",
      "case #8\n",
      "\t0\n",
      "\t1\n",
      "\t2\n",
      "\t\t0\n",
      "\t\t1\n",
      "\t\t\t0\n",
      "\t\t\t1\n",
      "\t\t\t2\n",
      "\t\t\t\t0\n",
      "\t\t\t\t1\n",
      "\t\t\t\t2\n",
      "\t\t\t\t1\n",
      "\t0\n",
      "\t1\n",
      "\t2\n",
      "\t\t0\n",
      "\t\t1\n",
      "\t\t\t0\n",
      "\t\t\t1\n",
      "\t\t\t2\n",
      "\t\t\t\t0\n",
      "\t\t\t\t1\n",
      "\t\t\t\t2\n",
      "\t\t\t\t1\n",
      "-FAIL 2\n",
      "case #9\n",
      "\t0\n",
      "\t1\n",
      "\t2\n",
      "\t\t0\n",
      "\t\t1\n",
      "\t\t\t0\n",
      "\t\t\t-1\n",
      "\t0\n",
      "\t1\n",
      "\t2\n",
      "\t\t0\n",
      "\t\t1\n",
      "\t\t\t0\n",
      "\t\t\t-1\n",
      "-FAIL 5\n"
     ]
    }
   ],
   "metadata": {}
  },
  {
   "cell_type": "code",
   "execution_count": 60,
   "source": [
    "\r\n",
    "s = 'aaaffggaahhaaaa'\r\n",
    "a = ''.join(dict.fromkeys(s))\r\n",
    "print(a) # abc"
   ],
   "outputs": [
    {
     "output_type": "stream",
     "name": "stdout",
     "text": [
      "afgh\n"
     ]
    }
   ],
   "metadata": {}
  },
  {
   "cell_type": "code",
   "execution_count": 67,
   "source": [
    "s = '1234'\r\n",
    "s[0] = 2\r\n",
    "print(s)\r\n"
   ],
   "outputs": [
    {
     "output_type": "error",
     "ename": "TypeError",
     "evalue": "'str' object does not support item assignment",
     "traceback": [
      "\u001b[1;31m---------------------------------------------------------------------------\u001b[0m",
      "\u001b[1;31mTypeError\u001b[0m                                 Traceback (most recent call last)",
      "\u001b[1;32m<ipython-input-67-50f2d1c0c0cb>\u001b[0m in \u001b[0;36m<module>\u001b[1;34m\u001b[0m\n\u001b[0;32m      1\u001b[0m \u001b[0ms\u001b[0m \u001b[1;33m=\u001b[0m \u001b[1;34m'1234'\u001b[0m\u001b[1;33m\u001b[0m\u001b[1;33m\u001b[0m\u001b[0m\n\u001b[1;32m----> 2\u001b[1;33m \u001b[0ms\u001b[0m\u001b[1;33m[\u001b[0m\u001b[1;36m0\u001b[0m\u001b[1;33m]\u001b[0m \u001b[1;33m=\u001b[0m \u001b[1;36m2\u001b[0m\u001b[1;33m\u001b[0m\u001b[1;33m\u001b[0m\u001b[0m\n\u001b[0m\u001b[0;32m      3\u001b[0m \u001b[0mprint\u001b[0m\u001b[1;33m(\u001b[0m\u001b[0ms\u001b[0m\u001b[1;33m)\u001b[0m\u001b[1;33m\u001b[0m\u001b[1;33m\u001b[0m\u001b[0m\n",
      "\u001b[1;31mTypeError\u001b[0m: 'str' object does not support item assignment"
     ]
    }
   ],
   "metadata": {}
  },
  {
   "cell_type": "code",
   "execution_count": 68,
   "source": [
    "s = \".qweqwe.\"\r\n",
    "answer = list(s)\r\n",
    "if(answer[-1] == '.'):\r\n",
    "    del answer[-1]\r\n",
    "if(answer[0] == '.'):\r\n",
    "    del answer[0]\r\n",
    "\r\n",
    "answer = \"\".join(answer)\r\n",
    "print(answer)"
   ],
   "outputs": [
    {
     "output_type": "stream",
     "name": "stdout",
     "text": [
      "qweqwe\n"
     ]
    }
   ],
   "metadata": {}
  },
  {
   "cell_type": "code",
   "execution_count": 106,
   "source": [
    "def solution(nums):\r\n",
    "    tmp = []\r\n",
    "    print(nums)\r\n",
    "    \r\n",
    "    for i in nums[0:-2]:\r\n",
    "        print(nums[0:-2], end=', ')\r\n",
    "        for j in nums[i+1:-1]:\r\n",
    "            print(nums[i+1:-1], end=', ')\r\n",
    "            for k in nums[j+1:]:\r\n",
    "\r\n",
    "                print(nums[j+1:], end='\\n\\t')\r\n",
    "                num = i+j+k\r\n",
    "                print(num)\r\n",
    "                if( isPrime(num) == True ):\r\n",
    "                    tmp.append(num)\r\n",
    "    print(tmp)\r\n",
    "    return len(set(tmp))"
   ],
   "outputs": [],
   "metadata": {}
  },
  {
   "cell_type": "code",
   "execution_count": 107,
   "source": [
    "solution([1,2,3,4])\r\n",
    "#solution([1,2,7,6,4])\r\n"
   ],
   "outputs": [
    {
     "output_type": "stream",
     "name": "stdout",
     "text": [
      "[1, 2, 3, 4]\n",
      "[1, 2], [3], [1, 2], []\n"
     ]
    },
    {
     "output_type": "execute_result",
     "data": {
      "text/plain": [
       "0"
      ]
     },
     "metadata": {},
     "execution_count": 107
    }
   ],
   "metadata": {}
  },
  {
   "cell_type": "code",
   "execution_count": 116,
   "source": [
    "def solution(s):\r\n",
    "    word = s.split(' ')\r\n",
    "    for i in range(0,len(word)):\r\n",
    "        word[i] = list(word[i])\r\n",
    "        for j in range(0,len(word[i])):\r\n",
    "            if(word[i][j]%2):\r\n",
    "                word[i][j] = '1'\r\n",
    "    return word"
   ],
   "outputs": [],
   "metadata": {}
  },
  {
   "cell_type": "code",
   "execution_count": 117,
   "source": [
    "solution(\"try hello world\")"
   ],
   "outputs": [
    {
     "output_type": "error",
     "ename": "TypeError",
     "evalue": "not all arguments converted during string formatting",
     "traceback": [
      "\u001b[1;31m---------------------------------------------------------------------------\u001b[0m",
      "\u001b[1;31mTypeError\u001b[0m                                 Traceback (most recent call last)",
      "\u001b[1;32m<ipython-input-117-1b1228f71dee>\u001b[0m in \u001b[0;36m<module>\u001b[1;34m\u001b[0m\n\u001b[1;32m----> 1\u001b[1;33m \u001b[0msolution\u001b[0m\u001b[1;33m(\u001b[0m\u001b[1;34m\"try hello world\"\u001b[0m\u001b[1;33m)\u001b[0m\u001b[1;33m\u001b[0m\u001b[1;33m\u001b[0m\u001b[0m\n\u001b[0m",
      "\u001b[1;32m<ipython-input-116-89cf50a03b5d>\u001b[0m in \u001b[0;36msolution\u001b[1;34m(s)\u001b[0m\n\u001b[0;32m      4\u001b[0m         \u001b[0mword\u001b[0m\u001b[1;33m[\u001b[0m\u001b[0mi\u001b[0m\u001b[1;33m]\u001b[0m \u001b[1;33m=\u001b[0m \u001b[0mlist\u001b[0m\u001b[1;33m(\u001b[0m\u001b[0mword\u001b[0m\u001b[1;33m[\u001b[0m\u001b[0mi\u001b[0m\u001b[1;33m]\u001b[0m\u001b[1;33m)\u001b[0m\u001b[1;33m\u001b[0m\u001b[1;33m\u001b[0m\u001b[0m\n\u001b[0;32m      5\u001b[0m         \u001b[1;32mfor\u001b[0m \u001b[0mj\u001b[0m \u001b[1;32min\u001b[0m \u001b[0mrange\u001b[0m\u001b[1;33m(\u001b[0m\u001b[1;36m0\u001b[0m\u001b[1;33m,\u001b[0m\u001b[0mlen\u001b[0m\u001b[1;33m(\u001b[0m\u001b[0mword\u001b[0m\u001b[1;33m[\u001b[0m\u001b[0mi\u001b[0m\u001b[1;33m]\u001b[0m\u001b[1;33m)\u001b[0m\u001b[1;33m)\u001b[0m\u001b[1;33m:\u001b[0m\u001b[1;33m\u001b[0m\u001b[1;33m\u001b[0m\u001b[0m\n\u001b[1;32m----> 6\u001b[1;33m             \u001b[1;32mif\u001b[0m\u001b[1;33m(\u001b[0m\u001b[0mword\u001b[0m\u001b[1;33m[\u001b[0m\u001b[0mi\u001b[0m\u001b[1;33m]\u001b[0m\u001b[1;33m[\u001b[0m\u001b[0mj\u001b[0m\u001b[1;33m]\u001b[0m\u001b[1;33m%\u001b[0m\u001b[1;36m2\u001b[0m\u001b[1;33m)\u001b[0m\u001b[1;33m:\u001b[0m\u001b[1;33m\u001b[0m\u001b[1;33m\u001b[0m\u001b[0m\n\u001b[0m\u001b[0;32m      7\u001b[0m                 \u001b[0mword\u001b[0m\u001b[1;33m[\u001b[0m\u001b[0mi\u001b[0m\u001b[1;33m]\u001b[0m\u001b[1;33m[\u001b[0m\u001b[0mj\u001b[0m\u001b[1;33m]\u001b[0m \u001b[1;33m=\u001b[0m \u001b[1;34m'1'\u001b[0m\u001b[1;33m\u001b[0m\u001b[1;33m\u001b[0m\u001b[0m\n\u001b[0;32m      8\u001b[0m     \u001b[1;32mreturn\u001b[0m \u001b[0mword\u001b[0m\u001b[1;33m\u001b[0m\u001b[1;33m\u001b[0m\u001b[0m\n",
      "\u001b[1;31mTypeError\u001b[0m: not all arguments converted during string formatting"
     ]
    }
   ],
   "metadata": {}
  },
  {
   "cell_type": "code",
   "execution_count": 122,
   "source": [
    "def solution(s, n):\r\n",
    "    answer = []\r\n",
    "    for c in s:\r\n",
    "        if( ord(c)>=ord('A') and ord(c)<=ord('Z') ):\r\n",
    "            answer.append(chr(((ord(c) - ord('A') + n) %26)+ord('A')))\r\n",
    "        elif( ord(c)>=ord('a') and ord(c)<=ord('z') ):\r\n",
    "            answer.append(chr(((ord(c) - ord('a') + n) %26)+ord('a')))\r\n",
    "        else: answer.append(c)\r\n",
    "    return ''.join(answer)"
   ],
   "outputs": [],
   "metadata": {}
  },
  {
   "cell_type": "code",
   "execution_count": 123,
   "source": [
    "solution(\"AB\",1)"
   ],
   "outputs": [
    {
     "output_type": "stream",
     "name": "stdout",
     "text": [
      "['B', 'C']\n"
     ]
    },
    {
     "output_type": "execute_result",
     "data": {
      "text/plain": [
       "'BC'"
      ]
     },
     "metadata": {},
     "execution_count": 123
    }
   ],
   "metadata": {}
  },
  {
   "cell_type": "code",
   "execution_count": null,
   "source": [],
   "outputs": [],
   "metadata": {}
  }
 ],
 "metadata": {
  "orig_nbformat": 4,
  "language_info": {
   "name": "python",
   "version": "3.8.5",
   "mimetype": "text/x-python",
   "codemirror_mode": {
    "name": "ipython",
    "version": 3
   },
   "pygments_lexer": "ipython3",
   "nbconvert_exporter": "python",
   "file_extension": ".py"
  },
  "kernelspec": {
   "name": "python3",
   "display_name": "Python 3.8.5 64-bit ('base': conda)"
  },
  "interpreter": {
   "hash": "ce1dda2b853e17d6321d126fd571ddea4c93c51c6585c96b9094decb7517e76c"
  }
 },
 "nbformat": 4,
 "nbformat_minor": 2
}