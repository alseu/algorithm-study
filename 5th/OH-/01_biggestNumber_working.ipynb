{
 "cells": [
  {
   "cell_type": "code",
   "execution_count": 3,
   "metadata": {},
   "outputs": [],
   "source": [
    "import itertools"
   ]
  },
  {
   "cell_type": "code",
   "execution_count": 65,
   "metadata": {},
   "outputs": [],
   "source": [
    "def solution(numbers):\n",
    "    numPermutations = itertools.permutations(numbers)\n",
    "    numList = []\n",
    "    \n",
    "    for i in numPermutations:\n",
    "        tmpStr = ''\n",
    "        for j in i:\n",
    "            tmpStr += str(j)\n",
    "        numList.append(int(tmpStr))\n",
    "\n",
    "    return max(numList)"
   ]
  },
  {
   "cell_type": "code",
   "execution_count": 79,
   "metadata": {},
   "outputs": [],
   "source": [
    "def solution(numbers):\n",
    "    numPermutations = itertools.permutations(numbers)\n",
    "    numList = []\n",
    "    \n",
    "    for i in numPermutations:\n",
    "        numList.append(''.join(list(map(str, list(i)))))\n",
    "\n",
    "    return max(numList)"
   ]
  },
  {
   "cell_type": "code",
   "execution_count": 4,
   "metadata": {},
   "outputs": [],
   "source": [
    "def solution(numbers):\n",
    "    numPermutations = itertools.permutations(numbers)\n",
    "    numList = [''.join( map(str, x) ) for x in numPermutations]\n",
    "    return max(numList)"
   ]
  },
  {
   "cell_type": "markdown",
   "metadata": {},
   "source": [
    "##### 테스트 1 〉\t실패 (시간 초과)\n",
    "##### 테스트 2 〉\t실패 (시간 초과)\n",
    "##### 테스트 3 〉\t실패 (시간 초과)\n",
    "##### 테스트 4 〉\t실패 (시간 초과)\n",
    "##### 테스트 5 〉\t실패 (시간 초과)\n",
    "##### 테스트 6 〉\t실패 (시간 초과)\n",
    "##### 테스트 7 〉\t실패 (시간 초과)\n",
    "##### 테스트 8 〉\t실패 (시간 초과)\n",
    "##### 테스트 9 〉\t실패 (시간 초과)\n",
    "##### 테스트 10 〉\t실패 (시간 초과)\n",
    "##### 테스트 11 〉\t실패 (시간 초과)\n",
    "##### 테스트 12 〉\t통과 (0.01ms, 10.2MB)\n",
    "##### 테스트 13 〉\t통과 (0.01ms, 10.1MB)\n",
    "##### 테스트 14 〉\t통과 (5.79ms, 10.5MB)\n",
    "##### 테스트 15 〉\t통과 (0.01ms, 10.2MB)\n",
    "##### [0, 0, 0] 입력시 '0'이 아닌 '000' 출력됨"
   ]
  },
  {
   "cell_type": "code",
   "execution_count": 11,
   "metadata": {},
   "outputs": [],
   "source": [
    "def solution(numbers):\n",
    "    numbers = list(map(str, numbers))\n",
    "    #numbers.sort(key=lambda x: x * 3, reverse=True)\n",
    "    numbers.sort(reverse=True)\n",
    "    return str(int(''.join(numbers)))"
   ]
  },
  {
   "cell_type": "code",
   "execution_count": 12,
   "metadata": {},
   "outputs": [
    {
     "name": "stdout",
     "output_type": "stream",
     "text": [
      "['6', '2', '10']\n",
      "6210\n",
      "['9', '5', '34', '30', '3']\n",
      "9534303\n",
      "['383', '38']\n",
      "38338\n",
      "['838', '83']\n",
      "83883\n",
      "['0', '0', '0']\n",
      "0\n"
     ]
    }
   ],
   "source": [
    "print(solution([6, 10, 2]))\t            # \"6210\"\n",
    "print(solution([3, 30, 34, 5, 9]))\t    # \"9534330\"\n",
    "print(solution([151, 15, 1]))\t        # \"151511\"\n",
    "print(solution([383, 38]))\t            # \"38383\"\n",
    "print(solution([838, 83]))\t            # \"83883\"\n",
    "print(solution([0, 0, 0]))\t            # \"0\""
   ]
  },
  {
   "cell_type": "code",
   "execution_count": 23,
   "metadata": {},
   "outputs": [
    {
     "name": "stdout",
     "output_type": "stream",
     "text": [
      "['3', '22', '2', '221', '220', '213', '212', '21', '211', '211', '12', '121', '114', '113', '112', '111']\n",
      "['3', '22', '2', '221', '220', '213', '212', '21', '211', '211', '12', '121', '114', '113', '112', '111']\n",
      "['3', '22', '221', '220', '2', '213', '212', '21', '211', '211', '12', '121', '114', '113', '112', '111']\n",
      "['3', '221', '220', '22', '213', '212', '211', '211', '21', '2', '121', '12', '114', '113', '112', '111']\n"
     ]
    }
   ],
   "source": [
    "# sort function \"key-lambda function\" example code\n",
    "strList = ['111','112','113','121','211','114','3','21','12','2','22','211','212','213','221','220']\n",
    "#strList.sort(key=lambda x: x, reverse=True)\n",
    "print(sorted(strList, key=lambda x: x*4, reverse=True))\n",
    "print(sorted(strList, key=lambda x: x*3, reverse=True))\n",
    "print(sorted(strList, key=lambda x: x*2, reverse=True))\n",
    "print(sorted(strList, key=lambda x: x, reverse=True))"
   ]
  },
  {
   "cell_type": "code",
   "execution_count": null,
   "metadata": {},
   "outputs": [],
   "source": []
  }
 ],
 "metadata": {
  "interpreter": {
   "hash": "ce1dda2b853e17d6321d126fd571ddea4c93c51c6585c96b9094decb7517e76c"
  },
  "kernelspec": {
   "display_name": "Python 3.8.5 64-bit ('base': conda)",
   "name": "python3"
  },
  "language_info": {
   "codemirror_mode": {
    "name": "ipython",
    "version": 3
   },
   "file_extension": ".py",
   "mimetype": "text/x-python",
   "name": "python",
   "nbconvert_exporter": "python",
   "pygments_lexer": "ipython3",
   "version": "3.8.5"
  },
  "orig_nbformat": 4
 },
 "nbformat": 4,
 "nbformat_minor": 2
}
