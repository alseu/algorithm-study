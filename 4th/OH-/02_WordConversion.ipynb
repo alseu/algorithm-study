{
 "cells": [
  {
   "cell_type": "markdown",
   "source": [
    "#### 문제 설명\r\n",
    "#### 두 개의 단어 begin, target과 단어의 집합 words가 있습니다. 아래와 같은 규칙을 이용하여 begin에서 target으로 변환하는 가장 짧은 변환 과정을 찾으려고 합니다.\r\n",
    "#### \r\n",
    "#### 1. 한 번에 한 개의 알파벳만 바꿀 수 있습니다.\r\n",
    "#### 2. words에 있는 단어로만 변환할 수 있습니다.\r\n",
    "#### 예를 들어 begin이 \"hit\", target가 \"cog\", words가 [\"hot\",\"dot\",\"dog\",\"lot\",\"log\",\"cog\"]라면 \"hit\" -> \"hot\" -> \"dot\" -> \"dog\" -> \"cog\"와 같이 4단계를 거쳐 변환할 수 있습니다.\r\n",
    "#### \r\n",
    "#### 두 개의 단어 begin, target과 단어의 집합 words가 매개변수로 주어질 때, 최소 몇 단계의 과정을 거쳐 begin을 target으로 변환할 수 있는지 return 하도록 solution 함수를 작성해주세요.\r\n",
    "#### \r\n",
    "#### 제한사항\r\n",
    "#### 각 단어는 알파벳 소문자로만 이루어져 있습니다.\r\n",
    "#### 각 단어의 길이는 3 이상 10 이하이며 모든 단어의 길이는 같습니다.\r\n",
    "#### words에는 3개 이상 50개 이하의 단어가 있으며 중복되는 단어는 없습니다.\r\n",
    "#### begin과 target은 같지 않습니다.\r\n",
    "#### 변환할 수 없는 경우에는 0를 return 합니다.\r\n",
    "#### 입출력 예\r\n",
    "#### begin\ttarget\twords\treturn\r\n",
    "#### \"hit\"\t\"cog\"\t[\"hot\", \"dot\", \"dog\", \"lot\", \"log\", \"cog\"]\t4\r\n",
    "#### \"hit\"\t\"cog\"\t[\"hot\", \"dot\", \"dog\", \"lot\", \"log\"]\t0\r\n",
    "#### 입출력 예 설명\r\n",
    "#### 예제 #1\r\n",
    "#### 문제에 나온 예와 같습니다.\r\n",
    "#### \r\n",
    "#### 예제 #2\r\n",
    "#### target인 \"cog\"는 words 안에 없기 때문에 변환할 수 없습니다.\r\n",
    "#### \r\n",
    "#### https://programmers.co.kr/learn/courses/30/lessons/43162\r\n",
    "#### \r\n",
    "#### 출처: 프로그래머스 코딩 테스트 연습, https://programmers.co.kr/learn/challenges"
   ],
   "metadata": {}
  },
  {
   "cell_type": "code",
   "execution_count": 35,
   "source": [
    "import numpy as np\r\n",
    "def genConvMap(words):\r\n",
    "    nWordsLen = len(words)\r\n",
    "    map = np.zeros((nWordsLen,nWordsLen), dtype=int)\r\n",
    "    for i in range(nWordsLen-1):\r\n",
    "        for j in range(i+1, nWordsLen):\r\n",
    "            set1 = set(words[i])\r\n",
    "            set2 = set(words[j])\r\n",
    "            diffSet1 = set1 - set2\r\n",
    "            diffSet2 = set2 - set1\r\n",
    "            if(len(diffSet1) == len(diffSet2) == 1):\r\n",
    "                map[i][j] = map[j][i] = 1\r\n",
    "    return map"
   ],
   "outputs": [],
   "metadata": {}
  },
  {
   "cell_type": "code",
   "execution_count": 36,
   "source": [
    "def CalcConvCnt(idxCurrent, idxTarget, map):\r\n",
    "    if(idxCurrent == idxTarget):\r\n",
    "        return 1\r\n",
    "    else:\r\n",
    "        cnt = 0\r\n",
    "        for num in map[idxCurrent]:\r\n",
    "            if num==1 :\r\n",
    "                # 이미 지나온 케이스의 경우 2로 변경\r\n",
    "                # cnt 계산법 변경 필요\r\n",
    "                cnt += CalcConvCnt(idxCurrent, idxTarget, map)\r\n",
    "        return cnt"
   ],
   "outputs": [],
   "metadata": {}
  },
  {
   "cell_type": "code",
   "execution_count": 40,
   "source": [
    "def solution(begin, target, words):\r\n",
    "    if target not in words:\r\n",
    "        return 0\r\n",
    "    words.append(begin)\r\n",
    "    idxCurrent = len(words)-1\r\n",
    "    idxTarget = words.index(target)\r\n",
    "    map = genConvMap(words)\r\n",
    "    print(map)\r\n",
    "    return CalcConvCnt(idxCurrent, idxTarget, map)"
   ],
   "outputs": [],
   "metadata": {}
  },
  {
   "cell_type": "code",
   "execution_count": 41,
   "source": [
    "print(solution(\"hit\", \"cog\", [\"hot\", \"dot\", \"dog\", \"lot\", \"log\", \"cog\"]))  #4\r\n",
    "print(solution(\"hit\", \"cog\", [\"hot\", \"dot\", \"dog\", \"lot\", \"log\"]))         #0"
   ],
   "outputs": [
    {
     "output_type": "stream",
     "name": "stdout",
     "text": [
      "[[0 1 0 1 0 0 1]\n",
      " [1 0 1 1 0 0 0]\n",
      " [0 1 0 0 1 1 0]\n",
      " [1 1 0 0 1 0 0]\n",
      " [0 0 1 1 0 1 0]\n",
      " [0 0 1 0 1 0 0]\n",
      " [1 0 0 0 0 0 0]]\n",
      "1\n",
      "0\n"
     ]
    }
   ],
   "metadata": {}
  },
  {
   "cell_type": "code",
   "execution_count": 14,
   "source": [
    "str1 = 'asd'\r\n",
    "str2 = 'asc'\r\n",
    "\r\n",
    "set1 = set(str1)\r\n",
    "set2 = set(str2)\r\n",
    "\r\n",
    "diffSet1 = set1 - set2\r\n",
    "diffSet2 = set2 - set1\r\n",
    "\r\n",
    "if(len(diffSet1) == len(diffSet2) == 1):\r\n",
    "    print(1)"
   ],
   "outputs": [
    {
     "output_type": "stream",
     "name": "stdout",
     "text": [
      "1\n"
     ]
    }
   ],
   "metadata": {}
  },
  {
   "cell_type": "code",
   "execution_count": null,
   "source": [],
   "outputs": [],
   "metadata": {}
  }
 ],
 "metadata": {
  "orig_nbformat": 4,
  "language_info": {
   "name": "python",
   "version": "3.8.5",
   "mimetype": "text/x-python",
   "codemirror_mode": {
    "name": "ipython",
    "version": 3
   },
   "pygments_lexer": "ipython3",
   "nbconvert_exporter": "python",
   "file_extension": ".py"
  },
  "kernelspec": {
   "name": "python3",
   "display_name": "Python 3.8.5 64-bit ('base': conda)"
  },
  "interpreter": {
   "hash": "ce1dda2b853e17d6321d126fd571ddea4c93c51c6585c96b9094decb7517e76c"
  }
 },
 "nbformat": 4,
 "nbformat_minor": 2
}