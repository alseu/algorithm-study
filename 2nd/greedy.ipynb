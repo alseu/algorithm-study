{
 "cells": [
  {
   "cell_type": "code",
   "execution_count": 90,
   "source": [
    "import time\r\n",
    "start = time.time()\r\n",
    "end = time.time()\r\n",
    "print(f\"{end - start:.5f} sec\")"
   ],
   "outputs": [
    {
     "output_type": "stream",
     "name": "stdout",
     "text": [
      "0.00000 sec\n"
     ]
    }
   ],
   "metadata": {}
  },
  {
   "cell_type": "markdown",
   "source": [
    "## 2. 큰수의 법칙"
   ],
   "metadata": {}
  },
  {
   "cell_type": "code",
   "execution_count": 3,
   "source": [
    "n, m, k = map(int, input().split())\r\n",
    "\r\n",
    "array = list(map(int, input().split()))\r\n",
    "array.sort(reverse=True)\r\n",
    "\r\n",
    "dup = 0\r\n",
    "answer = 0\r\n",
    "\r\n",
    "for _ in range(m % (k+1)):\r\n",
    "    if dup < k:\r\n",
    "        answer += array[0]\r\n",
    "        dup += 1\r\n",
    "    else:\r\n",
    "        answer += array[1]\r\n",
    "        dup = 0\r\n",
    "\r\n",
    "print(answer)\r\n"
   ],
   "outputs": [
    {
     "output_type": "stream",
     "name": "stdout",
     "text": [
      "46\n"
     ]
    }
   ],
   "metadata": {}
  },
  {
   "cell_type": "code",
   "execution_count": 16,
   "source": [
    "n,m,k=map(int,input().split());array=sorted(list(map(int,input().split())),reverse=True);print((k*array[0]+array[1])*(m//(k+1))+m%(k+1)*k*array[0])"
   ],
   "outputs": [
    {
     "output_type": "stream",
     "name": "stdout",
     "text": [
      "46\n"
     ]
    }
   ],
   "metadata": {}
  },
  {
   "cell_type": "markdown",
   "source": [
    "## 3. 숫자 카드 게임"
   ],
   "metadata": {}
  },
  {
   "cell_type": "code",
   "execution_count": 6,
   "source": [
    "n, m = map(int, input().split())\r\n",
    "array = []\r\n",
    "\r\n",
    "for _ in range(n):\r\n",
    "    array.append(min(map(int, input().split())))\r\n",
    "\r\n",
    "print(max(array))"
   ],
   "outputs": [
    {
     "output_type": "stream",
     "name": "stdout",
     "text": [
      "3\n"
     ]
    }
   ],
   "metadata": {}
  },
  {
   "cell_type": "code",
   "execution_count": 8,
   "source": [
    "n,m=map(int,input().split());print(max([min(map(int,input().split()))for _ in range(n)]))"
   ],
   "outputs": [
    {
     "output_type": "stream",
     "name": "stdout",
     "text": [
      "3\n"
     ]
    }
   ],
   "metadata": {}
  },
  {
   "cell_type": "markdown",
   "source": [
    "## 4. 1이 될때까지"
   ],
   "metadata": {}
  },
  {
   "cell_type": "code",
   "execution_count": 31,
   "source": [
    "n, k = map(int, input().split())\r\n",
    "\r\n",
    "cnt = 0\r\n",
    "while True:\r\n",
    "    cnt += n%k + (1 if n // k > 0 else -1)\r\n",
    "    n //= k\r\n",
    "    if n == 0: break\r\n",
    "\r\n",
    "print(cnt)"
   ],
   "outputs": [
    {
     "output_type": "stream",
     "name": "stdout",
     "text": [
      "6\n"
     ]
    }
   ],
   "metadata": {}
  },
  {
   "cell_type": "markdown",
   "source": [
    "## Q01. 모험가 길드"
   ],
   "metadata": {}
  },
  {
   "cell_type": "code",
   "execution_count": 33,
   "source": [
    "n = int(input())\r\n",
    "array = sorted(list(map(int,input().split())))\r\n",
    "\r\n",
    "group = []\r\n",
    "cnt = 0\r\n",
    "for x in array:\r\n",
    "    group.append(x)\r\n",
    "    if len(group) == x:\r\n",
    "        group = []\r\n",
    "        cnt += 1\r\n",
    "\r\n",
    "print(cnt)"
   ],
   "outputs": [
    {
     "output_type": "stream",
     "name": "stdout",
     "text": [
      "2\n"
     ]
    }
   ],
   "metadata": {}
  },
  {
   "cell_type": "markdown",
   "source": [
    "## Q02. 곱하기 혹은 더하기"
   ],
   "metadata": {}
  },
  {
   "cell_type": "code",
   "execution_count": 40,
   "source": [
    "array=sorted(list(map(int,input())),reverse=True)\r\n",
    "\r\n",
    "result = 1 if array[0] > 1 else 0\r\n",
    "for x in array:\r\n",
    "    result = (result*x) if x > 1 else (result+x)\r\n",
    "\r\n",
    "print(result)"
   ],
   "outputs": [
    {
     "output_type": "stream",
     "name": "stdout",
     "text": [
      "210\n"
     ]
    }
   ],
   "metadata": {}
  },
  {
   "cell_type": "markdown",
   "source": [
    "## Q03. 문자열 뒤집기"
   ],
   "metadata": {}
  },
  {
   "cell_type": "code",
   "execution_count": 44,
   "source": [
    "s=list(map(int,input()))\r\n",
    "\r\n",
    "cnt1 = 0\r\n",
    "cnt0 = 0\r\n",
    "prev = -1\r\n",
    "for x in s:\r\n",
    "    if x != prev:\r\n",
    "        prev = x\r\n",
    "        if x == 1: cnt1 += 1\r\n",
    "        else: cnt0 += 1\r\n",
    "\r\n",
    "print(min(cnt1, cnt0))"
   ],
   "outputs": [
    {
     "output_type": "stream",
     "name": "stdout",
     "text": [
      "1\n"
     ]
    }
   ],
   "metadata": {}
  },
  {
   "cell_type": "markdown",
   "source": [
    "## Q04. 만들 수 없는 금액"
   ],
   "metadata": {}
  },
  {
   "cell_type": "code",
   "execution_count": 4,
   "source": [
    "n = int(input())\r\n",
    "moneys = sorted(list(map(int, input().split())), reverse=True)\r\n",
    "\r\n",
    "min_val = 1\r\n",
    "max_val = sum(moneys)\r\n",
    "while min_val < max_val:\r\n",
    "    total = min_val\r\n",
    "    for x in moneys:\r\n",
    "        if x > total:\r\n",
    "            continue\r\n",
    "        total -= x\r\n",
    "        if total <= 0:\r\n",
    "            break\r\n",
    "    if total != 0:\r\n",
    "        break\r\n",
    "    min_val += 1\r\n",
    "\r\n",
    "print(min_val)"
   ],
   "outputs": [
    {
     "output_type": "stream",
     "name": "stdout",
     "text": [
      "8\n"
     ]
    }
   ],
   "metadata": {}
  },
  {
   "cell_type": "code",
   "execution_count": 48,
   "source": [
    "n = int(input())\r\n",
    "moneys = sorted(list(map(int, input().split())))\r\n",
    "\r\n",
    "min_val = 1\r\n",
    "for x in moneys:\r\n",
    "    if min_val < x:\r\n",
    "        break\r\n",
    "    else:\r\n",
    "        min_val += x\r\n",
    "\r\n",
    "print(min_val)"
   ],
   "outputs": [
    {
     "output_type": "stream",
     "name": "stdout",
     "text": [
      "2\n"
     ]
    }
   ],
   "metadata": {}
  },
  {
   "cell_type": "markdown",
   "source": [
    "## Q05. 볼링공 고르기"
   ],
   "metadata": {}
  },
  {
   "cell_type": "code",
   "execution_count": 17,
   "source": [
    "n, m = map(int,input().split())\r\n",
    "balls = list(map(int, input().split()))\r\n",
    "\r\n",
    "keys = set(balls)\r\n",
    "cnt = { x:balls.count(x) for x in keys }\r\n",
    "\r\n",
    "total = 0\r\n",
    "for x in cnt:\r\n",
    "    n -= cnt[x]\r\n",
    "    total += cnt[x]*n\r\n",
    "\r\n",
    "print(total)"
   ],
   "outputs": [
    {
     "output_type": "stream",
     "name": "stdout",
     "text": [
      "25\n"
     ]
    }
   ],
   "metadata": {}
  },
  {
   "cell_type": "markdown",
   "source": [
    "## Q06. 무지의 먹방 라이브\r\n",
    "- https://programmers.co.kr/learn/courses/30/lessons/42891"
   ],
   "metadata": {}
  },
  {
   "cell_type": "code",
   "execution_count": 101,
   "source": [
    "def solution(food_times, k):\r\n",
    "    if k >= sum(food_times):\r\n",
    "        return -1\r\n",
    "    \r\n",
    "    total_time = 0\r\n",
    "    prev = 0\r\n",
    "    length = len(food_times)\r\n",
    "    food_list = sorted([ (x, idx+1) for idx, x in enumerate(food_times) ], reverse=True)\r\n",
    "    while k >= total_time + (food_list[-1][0] - prev)*length:\r\n",
    "        time, idx = food_list.pop()\r\n",
    "        total_time += (time - prev) * length\r\n",
    "        prev = time\r\n",
    "        length -= 1\r\n",
    "\r\n",
    "    food_list = sorted(food_list, key = lambda x: x[1])\r\n",
    "    print(food_list)\r\n",
    "    return food_list[(k - total_time) %length][1]\r\n"
   ],
   "outputs": [],
   "metadata": {}
  },
  {
   "cell_type": "code",
   "execution_count": 98,
   "source": [
    "import heapq\r\n",
    "\r\n",
    "def solution2(food_times, k):\r\n",
    "    if k >= sum(food_times):\r\n",
    "        return -1\r\n",
    "\r\n",
    "    q = []\r\n",
    "    for i in range(len(food_times)):\r\n",
    "        heapq.heappush(q, (food_times[i], i+1))\r\n",
    "    \r\n",
    "    sum_value = 0\r\n",
    "    prev = 0\r\n",
    "    length = len(food_times)\r\n",
    "\r\n",
    "    while sum_value + ((q[0][0] - prev)*length) <= k:\r\n",
    "        now = heapq.heappop(q)[0]\r\n",
    "        sum_value += (now - prev) * length\r\n",
    "        length -= 1\r\n",
    "        prev = now\r\n",
    "\r\n",
    "    result = sorted(q, key = lambda x: x[1])\r\n",
    "    print(result)\r\n",
    "    return result[(k-sum_value)%length][1]"
   ],
   "outputs": [],
   "metadata": {}
  },
  {
   "cell_type": "markdown",
   "source": [
    "### 체육복\r\n",
    "- https://programmers.co.kr/learn/courses/30/lessons/42862"
   ],
   "metadata": {}
  },
  {
   "cell_type": "code",
   "execution_count": 1,
   "source": [
    "def solution(n, lost, reserve):\r\n",
    "    lost_list = sorted([ x for x in lost if x not in reserve ])\r\n",
    "    reserve_list = sorted([ x for x in reserve if x not in lost ])\r\n",
    "    cnt = 0\r\n",
    "            \r\n",
    "    for x in lost_list:\r\n",
    "        if x-1 in reserve_list:\r\n",
    "            reserve_list.remove(x-1)\r\n",
    "            cnt += 1\r\n",
    "            \r\n",
    "        elif x+1 in reserve_list:\r\n",
    "            reserve_list.remove(x+1)\r\n",
    "            cnt += 1\r\n",
    "\r\n",
    "    answer = n - len(lost_list) + cnt\r\n",
    "    return answer"
   ],
   "outputs": [],
   "metadata": {}
  },
  {
   "cell_type": "markdown",
   "source": [
    "### 조이스틱\r\n",
    "- https://programmers.co.kr/learn/courses/30/lessons/42860"
   ],
   "metadata": {}
  },
  {
   "cell_type": "code",
   "execution_count": 2,
   "source": [
    "def solution(name):\r\n",
    "    alp = [ chr(ord('A') + i ) for i in range(ord('Z') - ord('A') + 1) ]\r\n",
    "    name_list = list(map(str, name))\r\n",
    "    answer = -1\r\n",
    "    start_idx = 0\r\n",
    "    last_idx = 0\r\n",
    "    for idx, a in enumerate(name_list):\r\n",
    "        answer += 1\r\n",
    "        if a == 'A':\r\n",
    "            last_idx = idx\r\n",
    "            if name_list[idx-1] != 'A':\r\n",
    "                start_idx = idx\r\n",
    "            continue\r\n",
    "        if last_idx != 0:\r\n",
    "            if start_idx < last_idx - start_idx + 2:\r\n",
    "                answer -= last_idx - 2 * start_idx + 2\r\n",
    "            start_idx = 0\r\n",
    "            last_idx = 0\r\n",
    "        idx = alp.index(a)\r\n",
    "        answer += idx if idx <= 13 else (26 - idx)\r\n",
    "    return answer"
   ],
   "outputs": [],
   "metadata": {}
  },
  {
   "cell_type": "markdown",
   "source": [
    "### 큰 수 만들기\r\n",
    "- https://programmers.co.kr/learn/courses/30/lessons/42883"
   ],
   "metadata": {}
  },
  {
   "cell_type": "code",
   "execution_count": null,
   "source": [
    "def solution(number, k):\r\n",
    "    num_list = list(map(int, number))\r\n",
    "    answer = ''\r\n",
    "    length = len(num_list)\r\n",
    "    for idx, n in enumerate(num_list):\r\n",
    "        if length - idx == k:break\r\n",
    "        if n == max(num_list[idx:idx+k+1]):\r\n",
    "            answer += str(n)\r\n",
    "        else:\r\n",
    "            k -= 1\r\n",
    "            if k == 0:\r\n",
    "                answer += number[idx+1:]\r\n",
    "                break\r\n",
    "    \r\n",
    "    return answer"
   ],
   "outputs": [],
   "metadata": {}
  },
  {
   "cell_type": "markdown",
   "source": [
    "- 테스트 1 〉\t통과 (0.02ms, 10.3MB)\r\n",
    "- 테스트 2 〉\t통과 (0.03ms, 10.3MB)\r\n",
    "- 테스트 3 〉\t통과 (0.09ms, 10.3MB)\r\n",
    "- 테스트 4 〉\t통과 (0.25ms, 10.4MB)\r\n",
    "- 테스트 5 〉\t통과 (2.09ms, 10.4MB)\r\n",
    "- 테스트 6 〉\t통과 (887.28ms, 10.5MB)\r\n",
    "- 테스트 7 〉\t통과 (1642.11ms, 10.9MB)\r\n",
    "- 테스트 8 〉\t실패 (시간 초과)\r\n",
    "- 테스트 9 〉\t통과 (29.13ms, 13.9MB)\r\n",
    "- 테스트 10 〉\t실패 (시간 초과)\r\n",
    "- 테스트 11 〉\t통과 (0.02ms, 10.3MB)\r\n",
    "- 테스트 12 〉\t통과 (0.02ms, 10.4MB)"
   ],
   "metadata": {}
  },
  {
   "cell_type": "code",
   "execution_count": 3,
   "source": [
    "def solution(number, k):\r\n",
    "    num_list = list(map(int, number))\r\n",
    "    answer = ''\r\n",
    "    length = len(num_list)\r\n",
    "    for idx, n in enumerate(num_list):\r\n",
    "        if length - idx == k:break\r\n",
    "        if n == 9 or n == max(num_list[idx:idx+k+1]):\r\n",
    "            answer += str(n)\r\n",
    "        else:\r\n",
    "            k -= 1\r\n",
    "            if k == 0:\r\n",
    "                answer += number[idx+1:]\r\n",
    "                break\r\n",
    "    \r\n",
    "    return answer"
   ],
   "outputs": [],
   "metadata": {}
  },
  {
   "cell_type": "markdown",
   "source": [
    "- 테스트 1 〉\t통과 (0.02ms, 10.3MB)\r\n",
    "- 테스트 2 〉\t통과 (0.03ms, 10.3MB)\r\n",
    "- 테스트 3 〉\t통과 (0.10ms, 10.3MB)\r\n",
    "- 테스트 4 〉\t통과 (0.25ms, 10.3MB)\r\n",
    "- 테스트 5 〉\t통과 (1.78ms, 10.3MB)\r\n",
    "- 테스트 6 〉\t통과 (693.11ms, 10.4MB)\r\n",
    "- 테스트 7 〉\t통과 (1615.35ms, 10.7MB)\r\n",
    "- 테스트 8 〉\t실패 (시간 초과)\r\n",
    "- 테스트 9 〉\t통과 (27.34ms, 13.8MB)\r\n",
    "- 테스트 10 〉\t실패 (시간 초과)\r\n",
    "- 테스트 11 〉\t통과 (0.02ms, 10.4MB)\r\n",
    "- 테스트 12 〉\t통과 (0.02ms, 10.3MB)"
   ],
   "metadata": {}
  },
  {
   "cell_type": "code",
   "execution_count": 83,
   "source": [
    "def solution(number, k):\r\n",
    "    num_list = list(map(int, number))\r\n",
    "    answer = ''\r\n",
    "    prev = 10\r\n",
    "    for idx, n in enumerate(num_list):\r\n",
    "        if prev < n:\r\n",
    "            while prev < n and k >0:\r\n",
    "                try:\r\n",
    "                    prev = int(answer[-1])\r\n",
    "                    if prev >= n: break\r\n",
    "                except:\r\n",
    "                    break\r\n",
    "                answer = answer[:-1]\r\n",
    "                k -=1\r\n",
    "        answer += str(n)\r\n",
    "            \r\n",
    "        if k == 0:\r\n",
    "            answer += number[idx+1:]\r\n",
    "            break\r\n",
    "        prev = n\r\n",
    "    if k>0:\r\n",
    "        answer = answer[:-k]\r\n",
    "    return answer"
   ],
   "outputs": [],
   "metadata": {}
  },
  {
   "cell_type": "markdown",
   "source": [
    "- 테스트 1 〉\t통과 (0.03ms, 10.4MB)\r\n",
    "- 테스트 2 〉\t통과 (0.03ms, 10.3MB)\r\n",
    "- 테스트 3 〉\t통과 (0.08ms, 10.3MB)\r\n",
    "- 테스트 4 〉\t통과 (0.16ms, 10.3MB)\r\n",
    "- 테스트 5 〉\t통과 (0.68ms, 10.4MB)\r\n",
    "- 테스트 6 〉\t통과 (8.05ms, 10.5MB)\r\n",
    "- 테스트 7 〉\t통과 (14.60ms, 10.8MB)\r\n",
    "- 테스트 8 〉\t통과 (41.97ms, 11.2MB)\r\n",
    "- 테스트 9 〉\t통과 (26.09ms, 14MB)\r\n",
    "- 테스트 10 〉\t통과 (316.28ms, 15.5MB)\r\n",
    "- 테스트 11 〉\t통과 (0.02ms, 10.4MB)\r\n",
    "- 테스트 12 〉\t통과 (0.02ms, 10.4MB)"
   ],
   "metadata": {}
  }
 ],
 "metadata": {
  "orig_nbformat": 4,
  "language_info": {
   "name": "python",
   "version": "3.7.10",
   "mimetype": "text/x-python",
   "codemirror_mode": {
    "name": "ipython",
    "version": 3
   },
   "pygments_lexer": "ipython3",
   "nbconvert_exporter": "python",
   "file_extension": ".py"
  },
  "kernelspec": {
   "name": "python3",
   "display_name": "Python 3.7.10 64-bit ('tf2.0': conda)"
  },
  "interpreter": {
   "hash": "05da77d9963a027360ab68862938ac27b063a6c26dfa61894b9122f1c0994c87"
  }
 },
 "nbformat": 4,
 "nbformat_minor": 2
}