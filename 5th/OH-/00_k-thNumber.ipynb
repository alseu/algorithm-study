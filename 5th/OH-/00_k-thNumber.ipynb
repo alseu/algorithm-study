{
 "cells": [
  {
   "cell_type": "code",
   "execution_count": 1,
   "source": [
    "def solution(array, commands):\r\n",
    "    answer = []\r\n",
    "    for i in range(0,len(commands)):\r\n",
    "        tmp = []\r\n",
    "        tmp = array[commands[i][0]-1:commands[i][1]]\r\n",
    "        tmp.sort()\r\n",
    "        answer.append(tmp[commands[i][2]-1])\r\n",
    "    \r\n",
    "    return answer"
   ],
   "outputs": [],
   "metadata": {}
  },
  {
   "cell_type": "code",
   "execution_count": 2,
   "source": [
    "solution([1, 5, 2, 6, 3, 7, 4],\t[[2, 5, 3], [4, 4, 1], [1, 7, 3]])\t#[5, 6, 3]"
   ],
   "outputs": [
    {
     "output_type": "execute_result",
     "data": {
      "text/plain": [
       "[5, 6, 3]"
      ]
     },
     "metadata": {},
     "execution_count": 2
    }
   ],
   "metadata": {}
  },
  {
   "cell_type": "code",
   "execution_count": null,
   "source": [],
   "outputs": [],
   "metadata": {}
  }
 ],
 "metadata": {
  "orig_nbformat": 4,
  "language_info": {
   "name": "python",
   "version": "3.8.5",
   "mimetype": "text/x-python",
   "codemirror_mode": {
    "name": "ipython",
    "version": 3
   },
   "pygments_lexer": "ipython3",
   "nbconvert_exporter": "python",
   "file_extension": ".py"
  },
  "kernelspec": {
   "name": "python3",
   "display_name": "Python 3.8.5 64-bit ('base': conda)"
  },
  "interpreter": {
   "hash": "ce1dda2b853e17d6321d126fd571ddea4c93c51c6585c96b9094decb7517e76c"
  }
 },
 "nbformat": 4,
 "nbformat_minor": 2
}