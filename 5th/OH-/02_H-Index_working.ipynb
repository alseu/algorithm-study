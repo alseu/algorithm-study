{
 "cells": [
  {
   "cell_type": "markdown",
   "metadata": {},
   "source": [
    "### H-Index는 과학자의 생산성과 영향력을 나타내는 지표입니다. 어느 과학자의 H-Index를 나타내는 값인 h를 구하려고 합니다. 위키백과1에 따르면, H-Index는 다음과 같이 구합니다.\n",
    "### \n",
    "### 어떤 과학자가 발표한 논문 n편 중, h번 이상 인용된 논문이 h편 이상이고 나머지 논문이 h번 이하 인용되었다면 h의 최댓값이 이 과학자의 H-Index입니다.\n",
    "### \n",
    "### 어떤 과학자가 발표한 논문의 인용 횟수를 담은 배열 citations가 매개변수로 주어질 때, 이 과학자의 H-Index를 return 하도록 solution 함수를 작성해주세요.\n",
    "### \n",
    "### 제한사항\n",
    "### 과학자가 발표한 논문의 수는 1편 이상 1,000편 이하입니다.\n",
    "### 논문별 인용 횟수는 0회 이상 10,000회 이하입니다.\n",
    "### 입출력 예\n",
    "### citations\treturn\n",
    "### [3, 0, 6, 1, 5]\t3\n",
    "### 입출력 예 설명\n",
    "### 이 과학자가 발표한 논문의 수는 5편이고, 그중 3편의 논문은 3회 이상 인용되었습니다. 그리고 나머지 2편의 논문은 3회 이하 인용되었기 때문에 이 과학자의 H-Index는 3입니다.\n",
    "### \n",
    "### ※ 공지 - 2019년 2월 28일 테스트 케이스가 추가되었습니다."
   ]
  },
  {
   "cell_type": "code",
   "execution_count": 7,
   "metadata": {},
   "outputs": [],
   "source": [
    "# 그냥 풀이 (리스트 컴프리헨션)\n",
    "def solution(citations):\n",
    "    answer = 0\n",
    "    res = []\n",
    "    for n in range(1, len(citations)+1):\n",
    "        res = [x for x in citations if x>=n]\n",
    "        if len(res)>=n:\n",
    "            answer = n\n",
    "    return answer"
   ]
  },
  {
   "cell_type": "markdown",
   "metadata": {},
   "source": [
    "##### 테스트 1 〉\t통과 (7.57ms, 10.2MB)\n",
    "##### 테스트 2 〉\t통과 (18.98ms, 10.3MB)\n",
    "##### 테스트 3 〉\t통과 (15.20ms, 10.2MB)\n",
    "##### 테스트 4 〉\t통과 (12.01ms, 10.2MB)\n",
    "##### 테스트 5 〉\t통과 (20.06ms, 10.2MB)\n",
    "##### 테스트 6 〉\t통과 (23.40ms, 10.3MB)\n",
    "##### 테스트 7 〉\t통과 (3.77ms, 10.2MB)\n",
    "##### 테스트 8 〉\t통과 (0.25ms, 10.2MB)\n",
    "##### 테스트 9 〉\t통과 (0.47ms, 10.2MB)\n",
    "##### 테스트 10 〉\t통과 (5.25ms, 10.3MB)\n",
    "##### 테스트 11 〉\t통과 (27.47ms, 10.3MB)\n",
    "##### 테스트 12 〉\t통과 (0.84ms, 10.2MB)\n",
    "##### 테스트 13 〉\t통과 (23.10ms, 10.3MB)\n",
    "##### 테스트 14 〉\t통과 (20.03ms, 10.3MB)\n",
    "##### 테스트 15 〉\t통과 (23.76ms, 10.2MB)\n",
    "##### 테스트 16 〉\t통과 (0.01ms, 10.2MB)"
   ]
  },
  {
   "cell_type": "code",
   "execution_count": null,
   "metadata": {},
   "outputs": [],
   "source": [
    "# 리스트 컴프리헨션 + 정렬\n",
    "def solution(citations):\n",
    "    citations.sort()\n",
    "    answer = 0\n",
    "    res = []\n",
    "    for n in range(1, len(citations)+1):\n",
    "        res = [x for x in citations if x>=n]\n",
    "        if len(res)>=n:\n",
    "            answer = n\n",
    "        else:\n",
    "            break\n",
    "    return answer"
   ]
  },
  {
   "cell_type": "markdown",
   "metadata": {},
   "source": [
    "##### 테스트 1 〉\t통과 (7.15ms, 10.2MB)\n",
    "##### 테스트 2 〉\t통과 (17.11ms, 10.2MB)\n",
    "##### 테스트 3 〉\t통과 (14.53ms, 10.2MB)\n",
    "##### 테스트 4 〉\t통과 (11.23ms, 10.2MB)\n",
    "##### 테스트 5 〉\t통과 (17.45ms, 10.3MB)\n",
    "##### 테스트 6 〉\t통과 (21.51ms, 10.2MB)\n",
    "##### 테스트 7 〉\t통과 (3.79ms, 10.3MB)\n",
    "##### 테스트 8 〉\t통과 (0.14ms, 10.2MB)\n",
    "##### 테스트 9 〉\t통과 (0.48ms, 10.2MB)\n",
    "##### 테스트 10 〉\t통과 (5.26ms, 10.2MB)\n",
    "##### 테스트 11 〉\t통과 (24.65ms, 10.2MB)\n",
    "##### 테스트 12 〉\t통과 (0.93ms, 10.2MB)\n",
    "##### 테스트 13 〉\t통과 (23.32ms, 10.3MB)\n",
    "##### 테스트 14 〉\t통과 (19.96ms, 10.4MB)\n",
    "##### 테스트 15 〉\t통과 (27.30ms, 10.3MB)\n",
    "##### 테스트 16 〉\t통과 (0.00ms, 10.3MB)"
   ]
  },
  {
   "cell_type": "code",
   "execution_count": 10,
   "metadata": {},
   "outputs": [],
   "source": [
    "# 정렬 풀이\n",
    "def solution(citations):\n",
    "    citations.sort()\n",
    "    cnt, answer = 0, 0\n",
    "    for n in range(1, len(citations)+1):\n",
    "        if citations[len(citations)-n]>=n:\n",
    "            answer = n\n",
    "        else:\n",
    "            break\n",
    "    return answer"
   ]
  },
  {
   "cell_type": "markdown",
   "metadata": {},
   "source": [
    "##### 테스트 1 〉\t통과 (0.14ms, 10.3MB)\n",
    "##### 테스트 2 〉\t통과 (0.24ms, 10.2MB)\n",
    "##### 테스트 3 〉\t통과 (0.22ms, 10.2MB)\n",
    "##### 테스트 4 〉\t통과 (0.19ms, 10.2MB)\n",
    "##### 테스트 5 〉\t통과 (0.15ms, 10.2MB)\n",
    "##### 테스트 6 〉\t통과 (0.28ms, 10.3MB)\n",
    "##### 테스트 7 〉\t통과 (0.06ms, 10.2MB)\n",
    "##### 테스트 8 〉\t통과 (0.01ms, 10.2MB)\n",
    "##### 테스트 9 〉\t통과 (0.02ms, 10.2MB)\n",
    "##### 테스트 10 〉\t통과 (0.07ms, 10.1MB)\n",
    "##### 테스트 11 〉\t통과 (0.17ms, 10.3MB)\n",
    "##### 테스트 12 〉\t통과 (0.03ms, 10.3MB)\n",
    "##### 테스트 13 〉\t통과 (0.16ms, 10.4MB)\n",
    "##### 테스트 14 〉\t통과 (0.15ms, 10.3MB)\n",
    "##### 테스트 15 〉\t통과 (0.16ms, 10.3MB)\n",
    "##### 테스트 16 〉\t통과 (0.00ms, 10.2MB)"
   ]
  },
  {
   "cell_type": "code",
   "execution_count": 11,
   "metadata": {},
   "outputs": [
    {
     "name": "stdout",
     "output_type": "stream",
     "text": [
      "return: 3\n",
      "return: 0\n",
      "return: 1\n",
      "return: 4\n",
      "return: 3\n"
     ]
    }
   ],
   "source": [
    "print(\"return:\", solution([3, 0, 6, 1, 5]))\t        #3\n",
    "print(\"return:\", solution([0, 0, 0, 0, 0, 0, 0]))\t#0\n",
    "print(\"return:\", solution([0, 0, 0, 1]))\t        #1\n",
    "print(\"return:\", solution([9, 9, 9, 12]))\t        #4\n",
    "print(\"return:\", solution([1, 1, 5, 7, 6]))\t        #3"
   ]
  },
  {
   "cell_type": "code",
   "execution_count": null,
   "metadata": {},
   "outputs": [],
   "source": []
  }
 ],
 "metadata": {
  "interpreter": {
   "hash": "ce1dda2b853e17d6321d126fd571ddea4c93c51c6585c96b9094decb7517e76c"
  },
  "kernelspec": {
   "display_name": "Python 3.8.5 64-bit ('base': conda)",
   "name": "python3"
  },
  "language_info": {
   "codemirror_mode": {
    "name": "ipython",
    "version": 3
   },
   "file_extension": ".py",
   "mimetype": "text/x-python",
   "name": "python",
   "nbconvert_exporter": "python",
   "pygments_lexer": "ipython3",
   "version": "3.8.5"
  },
  "orig_nbformat": 4
 },
 "nbformat": 4,
 "nbformat_minor": 2
}
