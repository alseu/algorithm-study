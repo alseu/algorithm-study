{
 "cells": [
  {
   "cell_type": "markdown",
   "source": [
    "### 4-1 상하좌우"
   ],
   "metadata": {}
  },
  {
   "cell_type": "code",
   "execution_count": 8,
   "source": [
    "n= int(input())\r\n",
    "cursor = list(map(str, input().split()))\r\n",
    "loc = [1,1]\r\n",
    "dir_x = {'R': 1, 'L': -1}\r\n",
    "dir_y = {'U': -1, 'D': 1}\r\n",
    "for x in cursor:\r\n",
    "    if x in 'UD':\r\n",
    "        loc[0] += dir_y[x] if dir_y[x] + loc[0] > 0 else 0\r\n",
    "    else:\r\n",
    "        loc[1] += dir_x[x] if dir_x[x] + loc[1] > 0 else 0\r\n",
    "\r\n",
    "print(loc)"
   ],
   "outputs": [
    {
     "output_type": "stream",
     "name": "stdout",
     "text": [
      "[3, 4]\n"
     ]
    }
   ],
   "metadata": {}
  },
  {
   "cell_type": "markdown",
   "source": [
    "### 4-2 시각"
   ],
   "metadata": {}
  },
  {
   "cell_type": "code",
   "execution_count": 10,
   "source": [
    "n = int(input())\r\n",
    "\r\n",
    "cnt = 0\r\n",
    "for hh in range(n+1):\r\n",
    "    for mm in range(60):\r\n",
    "        for ss in range(60):\r\n",
    "            if '3' in str(hh) + str(mm) + str(ss): cnt+=1\r\n",
    "\r\n",
    "print(cnt)"
   ],
   "outputs": [
    {
     "output_type": "stream",
     "name": "stdout",
     "text": [
      "11475\n"
     ]
    }
   ],
   "metadata": {}
  },
  {
   "cell_type": "markdown",
   "source": [
    "### 2 왕실의 나이트"
   ],
   "metadata": {}
  },
  {
   "cell_type": "code",
   "execution_count": 5,
   "source": [
    "col, row = map(str, input())\r\n",
    "col = ord(col) + 1 - ord('a')\r\n",
    "row = int(row)\r\n",
    "\r\n",
    "dcol = [2, 2, -2, -2, 1, 1, -1, -1]\r\n",
    "drow = [1, -1, 1, -1, 2, -2, 2, -2]\r\n",
    "\r\n",
    "cnt = 0\r\n",
    "for i in range(8):\r\n",
    "    ncol = col + dcol[i]\r\n",
    "    nrow = row + drow[i]\r\n",
    "    if 1 <= ncol <= 8 and 1 <= nrow <= 8 :\r\n",
    "        cnt += 1\r\n",
    "\r\n",
    "print(cnt)"
   ],
   "outputs": [
    {
     "output_type": "stream",
     "name": "stdout",
     "text": [
      "6\n"
     ]
    }
   ],
   "metadata": {}
  },
  {
   "cell_type": "markdown",
   "source": [
    "### 3 게임 개발"
   ],
   "metadata": {}
  },
  {
   "cell_type": "code",
   "execution_count": 13,
   "source": [
    "n, m = map(int, input().split())\r\n",
    "x, y, _dir = map(int, input().split())\r\n",
    "_map = []\r\n",
    "for _ in range(n):\r\n",
    "    _map.append(list(map(int, input().split())))\r\n",
    "\r\n",
    "direction = [(0, -1), (1, 0), (0, 1), (1, 0)]\r\n",
    "cnt = 0\r\n",
    "def search(x, y, _dir, cnt):\r\n",
    "    cnt += 1\r\n",
    "    _map[x][y] = 1\r\n",
    "    for i in range(1, 5):\r\n",
    "        n_dir = (_dir + 4 -i) % 4\r\n",
    "        if x+direction[n_dir][0] < 0 or x+direction[n_dir][0] >= m or y+direction[n_dir][1] < 0 or y+direction[n_dir][1] >= n:\r\n",
    "            continue\r\n",
    "        if _map[x+direction[n_dir][0]][y+direction[n_dir][1]] == 0:\r\n",
    "           cnt = search(x+direction[n_dir][0], y+direction[n_dir][1], n_dir, cnt)\r\n",
    "\r\n",
    "    return cnt\r\n",
    "\r\n",
    "search(x, y, _dir, cnt)"
   ],
   "outputs": [
    {
     "output_type": "execute_result",
     "data": {
      "text/plain": [
       "3"
      ]
     },
     "metadata": {},
     "execution_count": 13
    }
   ],
   "metadata": {}
  },
  {
   "cell_type": "markdown",
   "source": [
    "## Q07 럭키 스트레이트"
   ],
   "metadata": {}
  },
  {
   "cell_type": "code",
   "execution_count": 4,
   "source": [
    "score = input()\r\n",
    "mid = len(score)//2\r\n",
    "left = list(map(int,score[:mid]))\r\n",
    "right = list(map(int,score[mid:]))\r\n",
    "print('LUCKY') if sum(left) == sum(right) else print('READY')"
   ],
   "outputs": [
    {
     "output_type": "stream",
     "name": "stdout",
     "text": [
      "READY\n"
     ]
    }
   ],
   "metadata": {}
  },
  {
   "cell_type": "markdown",
   "source": [
    "## Q08 문자열 재정렬"
   ],
   "metadata": {}
  },
  {
   "cell_type": "code",
   "execution_count": 9,
   "source": [
    "string = sorted(input())\r\n",
    "cnt = 0\r\n",
    "while ord(string[0]) < ord('A'):\r\n",
    "    cnt += int(string.pop(0))\r\n",
    "\r\n",
    "string += str(cnt)\r\n",
    "print(\"\".join(string))"
   ],
   "outputs": [
    {
     "output_type": "stream",
     "name": "stdout",
     "text": [
      "ADDIJJJKKLSS20\n"
     ]
    }
   ],
   "metadata": {}
  },
  {
   "cell_type": "markdown",
   "source": [
    "## Q09 문자열 압축\r\n",
    "- https://programmers.co.kr/learn/courses/30/lessons/60057"
   ],
   "metadata": {}
  },
  {
   "cell_type": "code",
   "execution_count": 41,
   "source": [
    "def solution(s):\r\n",
    "    length = 1\r\n",
    "    max_len = len(s)//2\r\n",
    "    answer = len(s)\r\n",
    "    while length <= max_len:\r\n",
    "        temp_len = length\r\n",
    "        step = len(s)//length\r\n",
    "        test = [ s[i*length: (i+1)*length] for i in range(step) ]\r\n",
    "        rest = len(s)-step*length\r\n",
    "        flag = False\r\n",
    "        cnt = 1\r\n",
    "        for i in range(1, len(test)):\r\n",
    "            if test[i] == test[i-1]:\r\n",
    "                cnt += 1\r\n",
    "                flag = True\r\n",
    "                continue\r\n",
    "            if flag:\r\n",
    "                temp_len += len(str(cnt))\r\n",
    "                flag = False\r\n",
    "                cnt = 1\r\n",
    "            temp_len += length\r\n",
    "        if flag: temp_len += len(str(cnt))\r\n",
    "        temp_len += rest\r\n",
    "        answer = min(answer, temp_len)\r\n",
    "        length += 1\r\n",
    "    return answer"
   ],
   "outputs": [],
   "metadata": {}
  },
  {
   "cell_type": "markdown",
   "source": [
    "## Q10 자물쇠와 열쇠\r\n",
    "- https://programmers.co.kr/learn/courses/30/lessons/60059"
   ],
   "metadata": {}
  },
  {
   "cell_type": "code",
   "execution_count": 132,
   "source": [
    "def solution(key, lock):\r\n",
    "    key_len = len(key)\r\n",
    "    lock_len = len(lock)\r\n",
    "    hole_cnt = 0\r\n",
    "    for x in lock: hole_cnt += x.count(0)\r\n",
    "    def turn(key):\r\n",
    "        length = len(key)\r\n",
    "        return [ [ key[length - j -1][i] for j in range(length) ] for i in range(length) ]\r\n",
    "\r\n",
    "    def is_match(key, lock):\r\n",
    "        size = (key_len - 1)*2 + lock_len\r\n",
    "        for x in range(lock_len + key_len - 1):\r\n",
    "            for y in range(lock_len + key_len - 1):\r\n",
    "                temp_lock = [ [0] * size for _ in range(size)] \r\n",
    "                for i in range(lock_len):\r\n",
    "                    for j in range(lock_len):\r\n",
    "                        temp_lock[i + key_len-1][j + key_len-1] += lock[i][j]\r\n",
    "                for i in range(key_len):\r\n",
    "                    for j in range(key_len):\r\n",
    "                        temp_lock[x+i][y+j] += key[i][j]\r\n",
    "                target = [ temp_lock[i][key_len - 1 : key_len+ lock_len-1] for i in range(key_len - 1, key_len+ lock_len -1)]\r\n",
    "                if target == [ [1] * lock_len ] * lock_len:\r\n",
    "                    return True\r\n",
    "\r\n",
    "        return False\r\n",
    "\r\n",
    "    for _ in range(4):\r\n",
    "        if is_match(key, lock):\r\n",
    "            return True\r\n",
    "        key = turn(key)\r\n",
    "    \r\n",
    "    return False"
   ],
   "outputs": [],
   "metadata": {}
  },
  {
   "cell_type": "markdown",
   "source": [
    "## 모의고사\r\n",
    "- https://programmers.co.kr/learn/courses/30/lessons/42840"
   ],
   "metadata": {}
  },
  {
   "cell_type": "code",
   "execution_count": 2,
   "source": [
    "def solution(answers):\r\n",
    "    length = len(answers)\r\n",
    "    p1 = [1, 2, 3, 4, 5]\r\n",
    "    p2 = [2, 1, 2, 3, 2, 4, 2, 5]\r\n",
    "    p3 = [3, 3, 1, 1, 2, 2, 4, 4, 5, 5]\r\n",
    "    a1 = [ 1 for i in range(length) if p1[i % len(p1)] == answers[i]]\r\n",
    "    a2 = [ 1 for i in range(length) if p2[i % len(p2)] == answers[i]]\r\n",
    "    a3 = [ 1 for i in range(length) if p3[i % len(p3)] == answers[i]]\r\n",
    "    max_val = max(len(a1), len(a2), len(a3))\r\n",
    "    answer = []\r\n",
    "    if max_val == len(a1): answer.append(1)\r\n",
    "    if max_val == len(a2): answer.append(2)\r\n",
    "    if max_val == len(a3): answer.append(3)\r\n",
    "    return answer"
   ],
   "outputs": [],
   "metadata": {}
  },
  {
   "cell_type": "code",
   "execution_count": null,
   "source": [],
   "outputs": [],
   "metadata": {}
  }
 ],
 "metadata": {
  "orig_nbformat": 4,
  "language_info": {
   "name": "python",
   "version": "3.8.5",
   "mimetype": "text/x-python",
   "codemirror_mode": {
    "name": "ipython",
    "version": 3
   },
   "pygments_lexer": "ipython3",
   "nbconvert_exporter": "python",
   "file_extension": ".py"
  },
  "kernelspec": {
   "name": "python3",
   "display_name": "Python 3.8.5 64-bit ('base': conda)"
  },
  "interpreter": {
   "hash": "e64d8dcf9c098651a20efd68037575e2ded99423c9980114527a11e03f988414"
  }
 },
 "nbformat": 4,
 "nbformat_minor": 2
}